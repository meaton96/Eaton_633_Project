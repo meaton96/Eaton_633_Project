{
 "cells": [
  {
   "cell_type": "markdown",
   "id": "af04dfd4",
   "metadata": {},
   "source": [
    "# DSCI 633 Project\n",
    "### Predicting Readmittance within 30 Days for Hospitalized Diabetes Patients  \n",
    "*Michael Eaton, Rochester Institute of Technology — Fall 2025*\n"
   ]
  },
  {
   "cell_type": "markdown",
   "id": "1c85283e",
   "metadata": {},
   "source": [
    "## Feature Exploration\n",
    "Take a look at different columns, explore feature importance, check missing data from columns"
   ]
  },
  {
   "cell_type": "code",
   "execution_count": null,
   "id": "b263e8b4",
   "metadata": {},
   "outputs": [],
   "source": [
    "from ucimlrepo import fetch_ucirepo \n",
    "import re\n",
    "import numpy as np\n",
    "import pandas as pd"
   ]
  },
  {
   "cell_type": "code",
   "execution_count": 2,
   "id": "bf54220e-7a4d-499d-bb04-dbbebd8f0166",
   "metadata": {},
   "outputs": [
    {
     "name": "stderr",
     "output_type": "stream",
     "text": [
      "/home/mike/Git-projects/Eaton_633_Project/.venv/lib/python3.13/site-packages/ucimlrepo/fetch.py:97: DtypeWarning: Columns (10) have mixed types. Specify dtype option on import or set low_memory=False.\n",
      "  df = pd.read_csv(data_url)\n"
     ]
    }
   ],
   "source": [
    "# fetch dataset \n",
    "diabetes_130_us_hospitals_for_years_1999_2008 = fetch_ucirepo(id=296) \n",
    "  \n",
    "# data (as pandas dataframes) \n",
    "X: pd.DataFrame = diabetes_130_us_hospitals_for_years_1999_2008.data.features  # type: ignore\n",
    "y :pd.DataFrame = diabetes_130_us_hospitals_for_years_1999_2008.data.targets  # type: ignore\n"
   ]
  },
  {
   "cell_type": "code",
   "execution_count": 3,
   "id": "0205a058-728c-421f-a9ab-ea5a1abe5848",
   "metadata": {},
   "outputs": [],
   "source": [
    "# drop weight and payer_code missing and un informative (Strack et al. (2014))\n",
    "\n",
    "\n",
    "X_0 = X.drop(columns=['weight', 'payer_code'])\n",
    "\n",
    "\n",
    "\n",
    "# fix diag column types\n",
    "X_0['diag_1'] = X_0['diag_1'].astype('string')\n",
    "X_0['diag_2'] = X_0['diag_2'].astype('string')\n",
    "X_0['diag_3'] = X_0['diag_3'].astype('string')\n",
    "\n",
    "# fix specialty column type\n",
    "X_0['medical_specialty'] = X_0['medical_specialty'].astype('string')\n",
    "\n",
    "# fix race\n",
    "X_0['race'] = X_0['race'].astype('string')\n",
    "\n",
    "# fix age\n",
    "X_0['age'] = X_0['age'].astype('string')\n"
   ]
  },
  {
   "cell_type": "markdown",
   "id": "57ea0bde",
   "metadata": {},
   "source": [
    "I'll start by copying the binning strategy used in Strack et al. to limit feature explosion"
   ]
  },
  {
   "cell_type": "code",
   "execution_count": null,
   "id": "d495c94e",
   "metadata": {},
   "outputs": [],
   "source": [
    "# bin diagnoses into groups \n",
    "_icd_num_re = re.compile(r'^(\\d{3})(?:\\.\\d+)?$')   # e.g., '250.13' -> '250'\n",
    "\n",
    "def _parse_icd9(code):\n",
    "    \"\"\"\n",
    "    Returns (prefix, num) where:\n",
    "      - prefix is 'E', 'V', or '' for numeric codes\n",
    "      - num is an integer 3-digit number if numeric; else None\n",
    "    \"\"\"\n",
    "    if code is None or (isinstance(code, float) and np.isnan(code)):\n",
    "        return '', None\n",
    "    s = str(code).strip()\n",
    "    if not s:\n",
    "        return '', None\n",
    "    first = s[0].upper()\n",
    "    if first in ('E', 'V'):\n",
    "        return first, None\n",
    "    m = _icd_num_re.match(s)\n",
    "    if m:\n",
    "        return '', int(m.group(1))\n",
    "    # Try float -> int of floor integer part\n",
    "    try:\n",
    "        return '', int(float(s))\n",
    "    except Exception:\n",
    "        return '', None\n",
    "\n",
    "def icd9_to_group(code):\n",
    "    \"\"\"\n",
    "    Map a single ICD-9 code to the study's diagnosis group.\n",
    "    \"\"\"\n",
    "    prefix, num = _parse_icd9(code)\n",
    "\n",
    "    # External causes (E or V) \n",
    "    if prefix in ('E', 'V'):\n",
    "        return 'Other'\n",
    "\n",
    "    if num is None:\n",
    "        return 'Other'\n",
    "\n",
    "    # Special case: Diabetes 250.xx\n",
    "    if 250 <= num <= 250:\n",
    "        return 'Diabetes'\n",
    "\n",
    "    # Primary named groups\n",
    "    if (390 <= num <= 459) or (num == 785):\n",
    "        return 'Circulatory'\n",
    "    if (460 <= num <= 519) or (num == 786):\n",
    "        return 'Respiratory'\n",
    "    if (520 <= num <= 579) or (num == 787):\n",
    "        return 'Digestive'\n",
    "    if 800 <= num <= 999:\n",
    "        return 'Injury'\n",
    "    if 710 <= num <= 739:\n",
    "        return 'Musculoskeletal'\n",
    "    if (580 <= num <= 629) or (num == 788):\n",
    "        return 'Genitourinary'\n",
    "    if 140 <= num <= 239:\n",
    "        return 'Neoplasms'\n",
    "\n",
    "    return 'Other'"
   ]
  },
  {
   "cell_type": "code",
   "execution_count": 5,
   "id": "a291a7b2",
   "metadata": {},
   "outputs": [],
   "source": [
    "# Admission source -> 3 bins\n",
    "def bin_admit_source(id: int) -> str:\n",
    "    if id == 7:\n",
    "        return 'emergency'\n",
    "    if id == 1 or id == 2:\n",
    "        return 'refer'\n",
    "    return 'other'\n"
   ]
  },
  {
   "cell_type": "code",
   "execution_count": 6,
   "id": "a467d363",
   "metadata": {},
   "outputs": [],
   "source": [
    "# Medical Specialty of admitting physician -> 6 bins including missing\n",
    "def bin_medical_specialty(value: str) -> str:\n",
    "    if pd.isna(value) or value in (\"Missing\", \"Unknown\", \"PhysicianNotFound\", \"OutreachServices\", \"DCPTEAM\"):\n",
    "        return \"Missing\"\n",
    "    \n",
    "    # normalize casing and spacing just in case\n",
    "    val = str(value).strip().lower()\n",
    "    \n",
    "    # Internal Medicine\n",
    "    if \"internal\" in val:\n",
    "        return \"Internal Medicine\"\n",
    "    \n",
    "    # Cardiology\n",
    "    if \"cardio\" in val:\n",
    "        return \"Cardiology\"\n",
    "    \n",
    "    # Surgery (catch-all for surgical specialties)\n",
    "    if \"surg\" in val or \"orthopedic\" in val or \"urology\" in val or \"gyneco\" in val or \"neuro\" in val or \"vascular\" in val or \"thoracic\" in val:\n",
    "        return \"Surgery\"\n",
    "    \n",
    "    # Family / General Practice\n",
    "    if \"family\" in val or \"general\" in val or \"gp\" in val or \"obstetric\" in val or \"pediatr\" in val:\n",
    "        return \"Family/GP\"\n",
    "    \n",
    "    # Everything else\n",
    "    return \"Other\"\n"
   ]
  },
  {
   "cell_type": "code",
   "execution_count": 7,
   "id": "e30222f5",
   "metadata": {},
   "outputs": [],
   "source": [
    "# Discharge Dispostion -> 2 bins (home, other)\n",
    "def bin_discharge(id: int) -> str:\n",
    "    return 'home' if id == 1 else 'other'"
   ]
  },
  {
   "cell_type": "code",
   "execution_count": 8,
   "id": "4246ae72",
   "metadata": {},
   "outputs": [],
   "source": [
    "# bin race -> Hispanic/Asian -> other since they have few values\n",
    "def bin_race(race: str) -> str:\n",
    "    if (pd.isna(race)):\n",
    "        return \"Other\"\n",
    "    race = race.strip().lower()\n",
    "    if race == \"caucasian\":\n",
    "        return \"Caucasian\"\n",
    "    if race == \"africanamerican\":\n",
    "        return \"AfricanAmerican\"\n",
    "    return \"Other\""
   ]
  },
  {
   "cell_type": "code",
   "execution_count": 9,
   "id": "6cdae10b",
   "metadata": {},
   "outputs": [],
   "source": [
    "# bin admission type id \n",
    "def bin_admit_type(id: int) -> str:\n",
    "    if id in [5, 6, 8]: # Not Available, NULL, Not mapped\n",
    "        return 'NA'\n",
    "    if id in [1,7]: # Emergency, Trauma Center\n",
    "        return 'Emergency'\n",
    "    if id == 2:\n",
    "        return 'Urgent'\n",
    "    if id == 3:\n",
    "        return 'Elective'\n",
    "    return 'Other'\n"
   ]
  },
  {
   "cell_type": "code",
   "execution_count": 10,
   "id": "3c38353b",
   "metadata": {},
   "outputs": [],
   "source": [
    "# bin age -> 3 groups\n",
    "def bin_age(age: str) -> str:\n",
    "    # grabs [0-10], [10-20], [20-30]\n",
    "    if ('10' in age or '20' in age):\n",
    "        return '<30'\n",
    "    # grabs (30-40), (40-50), (50-60)\n",
    "    if ('40' in age or '50' in age):\n",
    "        return '30-60'\n",
    "    return '>60'"
   ]
  },
  {
   "cell_type": "code",
   "execution_count": 11,
   "id": "53f489bd",
   "metadata": {},
   "outputs": [],
   "source": [
    "# bin a1c results\n",
    "def bin_a1c(val: str) -> str:\n",
    "    if pd.isna(val):\n",
    "        return 'No_test'\n",
    "    if val in ('>7', '>8'):\n",
    "        return 'High'\n",
    "    if val.lower().startswith('norm'):\n",
    "        return 'Normal'\n",
    "    return 'No_test'"
   ]
  },
  {
   "cell_type": "code",
   "execution_count": 12,
   "id": "04170e59",
   "metadata": {},
   "outputs": [],
   "source": [
    "def bin_glucose(val: str) -> str:\n",
    "    if pd.isna(val):\n",
    "        return 'No_test'\n",
    "    if val in ('>200', '>300'):\n",
    "        return 'High'\n",
    "    if val.lower().startswith('norm'):\n",
    "        return 'Normal'\n",
    "    return 'No_test'"
   ]
  },
  {
   "cell_type": "markdown",
   "id": "8bc9fa00",
   "metadata": {},
   "source": [
    "Apply the categorical transformations"
   ]
  },
  {
   "cell_type": "code",
   "execution_count": 13,
   "id": "28a00cda",
   "metadata": {},
   "outputs": [],
   "source": [
    "X_0['diag1_group'] = X_0['diag_1'].apply(icd9_to_group)\n",
    "X_0['diag2_group'] = X_0['diag_2'].apply(icd9_to_group)\n",
    "X_0['diag3_group'] = X_0['diag_3'].apply(icd9_to_group)\n",
    "X_0['admission_source'] = X_0['admission_source_id'].apply(bin_admit_source)\n",
    "X_0['discharge_loc'] = X_0['discharge_disposition_id'].apply(bin_discharge)\n",
    "X_0['specialty_cat'] = X_0['medical_specialty'].apply(bin_medical_specialty)\n",
    "X_0['race_cat'] = X_0['race'].apply(bin_race)\n",
    "X_0['age_group'] = X_0['age'].apply(bin_age)\n",
    "X_0['a1c_group'] = X_0['A1Cresult'].apply(bin_a1c)\n",
    "X_0['glucose_group'] = X_0['max_glu_serum'].apply(bin_glucose)\n",
    "X_0['admit_type_group'] = X_0['admission_type_id'].apply(bin_admit_type)"
   ]
  },
  {
   "cell_type": "markdown",
   "id": "c2ab8d52",
   "metadata": {},
   "source": [
    "Drop the old columns"
   ]
  },
  {
   "cell_type": "code",
   "execution_count": 14,
   "id": "9b9ae9e7",
   "metadata": {},
   "outputs": [],
   "source": [
    "\n",
    "# Drop rows with invalid gender\n",
    "valid_gender = (X_0['gender'] == 'Male') | (X_0['gender'] == 'Female')\n",
    "\n",
    "X_1 = X_0.loc[valid_gender].reset_index(drop=True)\n",
    "y   = y.loc[valid_gender].reset_index(drop=True)\n",
    "\n",
    "\n",
    "# drop previous columns in favor of new groups\n",
    "X_1 = X_1.drop(\n",
    "    columns=['diag_1', \n",
    "             'diag_2', \n",
    "             'diag_3', \n",
    "             'admission_source_id',\n",
    "             'discharge_disposition_id',\n",
    "             'medical_specialty',\n",
    "             'race',\n",
    "             'age',\n",
    "             'A1Cresult',\n",
    "             'max_glu_serum',\n",
    "             'admission_type_id'\n",
    "             ])"
   ]
  },
  {
   "cell_type": "markdown",
   "id": "8c0a570a",
   "metadata": {},
   "source": [
    "One hot encode the new categories"
   ]
  },
  {
   "cell_type": "code",
   "execution_count": 15,
   "id": "e93fc101",
   "metadata": {},
   "outputs": [
    {
     "name": "stdout",
     "output_type": "stream",
     "text": [
      "num features before: 45\n",
      "num features after: 90\n"
     ]
    }
   ],
   "source": [
    "# one hot categorical columns\n",
    "X_2 = pd.get_dummies(X_1, \n",
    "                     columns=[  'diag1_group', \n",
    "                                'diag2_group', \n",
    "                                'diag3_group', \n",
    "                                'admission_source',\n",
    "                                'discharge_loc',\n",
    "                                'specialty_cat',\n",
    "                                'race_cat',\n",
    "                                'age_group',\n",
    "                                'gender',\n",
    "                                'a1c_group',\n",
    "                                'glucose_group',\n",
    "                                'admit_type_group'\n",
    "                              ])\n",
    "\n",
    "print(f'num features before: {len(X_1.columns)}')\n",
    "print(f'num features after: {len(X_2.columns)}')\n",
    "\n",
    "\n"
   ]
  },
  {
   "cell_type": "markdown",
   "id": "3496fb8a",
   "metadata": {},
   "source": [
    "Handle drug columns by swapping them to binary flags"
   ]
  },
  {
   "cell_type": "code",
   "execution_count": 17,
   "id": "4c9422b3",
   "metadata": {},
   "outputs": [],
   "source": [
    "# swap to binary flags\n",
    "X_2['diabetesMed_flag'] = (X_2['diabetesMed'].str.lower() == 'yes').astype(int)\n",
    "X_2['change_flag'] = (X_2['change'].str.lower() == 'ch').astype(int)\n",
    "\n",
    "\n",
    "# dump frame before we start dropping columns, for potential deep models if used\n",
    "X_2.to_csv('../data/full_frame.csv')\n",
    "\n",
    "\n",
    "cols = [\n",
    "    'metformin', 'repaglinide', 'nateglinide', 'chlorpropamide', 'glimepiride',\n",
    "    'acetohexamide', 'glipizide', 'glyburide', 'tolbutamide', 'pioglitazone',\n",
    "    'rosiglitazone', 'acarbose', 'miglitol', 'troglitazone', 'tolazamide',\n",
    "    'examide', 'citoglipton', 'insulin', 'glyburide-metformin',\n",
    "    'glipizide-metformin', 'glimepiride-pioglitazone',\n",
    "    'metformin-rosiglitazone', 'metformin-pioglitazone'\n",
    "]\n",
    "\n",
    "\n",
    "for col in cols:\n",
    "    X_2[f'{col}_flag'] = (X_2[col].str.lower() != 'no').astype(int)\n"
   ]
  },
  {
   "cell_type": "code",
   "execution_count": 18,
   "id": "e7b15718",
   "metadata": {},
   "outputs": [],
   "source": [
    "# sum across medicine for amount of medicine prescribed\n",
    "X_2['num_drugs'] = X_2[[f'{c}_flag' for c in cols]].sum(axis=1)"
   ]
  },
  {
   "cell_type": "markdown",
   "id": "7060d435",
   "metadata": {},
   "source": [
    "Drop one base category from each one hot group to avoid linear depedent columns"
   ]
  },
  {
   "cell_type": "code",
   "execution_count": null,
   "id": "0a1ee697",
   "metadata": {},
   "outputs": [
    {
     "name": "stdout",
     "output_type": "stream",
     "text": [
      "num features after drops: 59\n"
     ]
    },
    {
     "data": {
      "text/plain": [
       "['time_in_hospital',\n",
       " 'num_lab_procedures',\n",
       " 'num_procedures',\n",
       " 'num_medications',\n",
       " 'number_outpatient',\n",
       " 'number_emergency',\n",
       " 'number_inpatient',\n",
       " 'number_diagnoses',\n",
       " 'diag1_group_Diabetes',\n",
       " 'diag1_group_Digestive',\n",
       " 'diag1_group_Genitourinary',\n",
       " 'diag1_group_Injury',\n",
       " 'diag1_group_Musculoskeletal',\n",
       " 'diag1_group_Neoplasms',\n",
       " 'diag1_group_Other',\n",
       " 'diag1_group_Respiratory',\n",
       " 'diag2_group_Circulatory',\n",
       " 'diag2_group_Diabetes',\n",
       " 'diag2_group_Digestive',\n",
       " 'diag2_group_Genitourinary',\n",
       " 'diag2_group_Injury',\n",
       " 'diag2_group_Musculoskeletal',\n",
       " 'diag2_group_Neoplasms',\n",
       " 'diag2_group_Other',\n",
       " 'diag2_group_Respiratory',\n",
       " 'diag3_group_Circulatory',\n",
       " 'diag3_group_Diabetes',\n",
       " 'diag3_group_Digestive',\n",
       " 'diag3_group_Genitourinary',\n",
       " 'diag3_group_Injury',\n",
       " 'diag3_group_Musculoskeletal',\n",
       " 'diag3_group_Neoplasms',\n",
       " 'diag3_group_Other',\n",
       " 'diag3_group_Respiratory',\n",
       " 'admission_source_emergency',\n",
       " 'admission_source_refer',\n",
       " 'discharge_loc_other',\n",
       " 'specialty_cat_Cardiology',\n",
       " 'specialty_cat_Family/GP',\n",
       " 'specialty_cat_Missing',\n",
       " 'specialty_cat_Other',\n",
       " 'specialty_cat_Surgery',\n",
       " 'race_cat_AfricanAmerican',\n",
       " 'race_cat_Other',\n",
       " 'age_group_<30',\n",
       " 'age_group_>60',\n",
       " 'gender_Female',\n",
       " 'a1c_group_High',\n",
       " 'a1c_group_Normal',\n",
       " 'glucose_group_High',\n",
       " 'glucose_group_Normal',\n",
       " 'admit_type_group_Elective',\n",
       " 'admit_type_group_Emergency',\n",
       " 'admit_type_group_NA',\n",
       " 'admit_type_group_Other',\n",
       " 'admit_type_group_Urgent',\n",
       " 'diabetesMed_flag',\n",
       " 'change_flag',\n",
       " 'num_drugs']"
      ]
     },
     "execution_count": 19,
     "metadata": {},
     "output_type": "execute_result"
    }
   ],
   "source": [
    "# for regression models, drop change and diabetesMed since this info is encoded into the drug flags\n",
    "X_3 = X_2.drop(\n",
    "    columns=[\n",
    "        'diag1_group_Circulatory', # Circulatory primary diagnosis\n",
    "        'specialty_cat_Internal Medicine', # internal medicine physician specialty\n",
    "        'age_group_30-60', # mid age group\n",
    "        'race_cat_Caucasian',\n",
    "        'gender_Male',\n",
    "        'discharge_loc_home',\n",
    "        'admission_source_other',\n",
    "        'a1c_group_No_test',\n",
    "        'glucose_group_No_test',\n",
    "        'change',\n",
    "        'diabetesMed'\n",
    "    ]\n",
    ")\n",
    "\n",
    "# Create the list of flag columns\n",
    "flag_cols = [f\"{c}_flag\" for c in cols]\n",
    "# Drop them from the DataFrame\n",
    "X_3 = X_3.drop(columns=flag_cols)\n",
    "\n",
    "# drop drug columns\n",
    "X_3 = X_3.drop(\n",
    "    columns=cols\n",
    ")\n",
    "print(f'num features after drops: {len(X_3.columns)}')\n",
    "X_3.to_csv('../data/frame_no_interactions.csv')\n"
   ]
  },
  {
   "cell_type": "markdown",
   "id": "eb715a0c",
   "metadata": {},
   "source": [
    "### Create interaction terms\n",
    "Baseline will be the interaction terms that were found statistically signifigant in Strack et al.\n",
    "\n",
    "That is (by P):\n",
    "- Discharge disposition × Time in hospital (p < 0.001)\n",
    "- Medical specialty of admitting physician × Age (p < 0.001)\n",
    "- Primary diagnosis × Time in hospital (p < 0.001)\n",
    "- Discharge disposition × Race (p < 0.001)\n",
    "- Discharge disposition × Medical specialty of admitting physician (p = 0.001)\n",
    "- Medical Specialty x Time in hospitcal (p = 0.001)\n",
    "\n",
    "I'll leave out for now:\n",
    "- Discharge disposition x Primary diagnosis (p = 0.005)\n",
    "- Primary diagnosis x HbA1c (p = 0.004)\n"
   ]
  },
  {
   "cell_type": "markdown",
   "id": "7af97a8e",
   "metadata": {},
   "source": [
    "Categorical x numerical interactions"
   ]
  },
  {
   "cell_type": "code",
   "execution_count": 20,
   "id": "842c2079",
   "metadata": {},
   "outputs": [
    {
     "name": "stdout",
     "output_type": "stream",
     "text": [
      "num features after adding numerical interaction cols: 73\n"
     ]
    }
   ],
   "source": [
    "# Primary Diagnosis X Time in hospital interaction\n",
    "X_4 = X_3.copy()\n",
    "for col in X_4.filter(like='diag1_group_'):\n",
    "    X_4[f'hosp_time_{col}'] = X_4[col] * X_4['time_in_hospital']\n",
    "\n",
    "# medical specialty of admitting physician x time in hospital\n",
    "for col in X_4.filter(like='specialty_cat_'):\n",
    "    X_4[f'hosp_time_{col}'] = X_4[col] * X_4['time_in_hospital']\n",
    "\n",
    "# Discharge Disposition x time in hospital\n",
    "for col in X_4.filter(regex=r'^discharge_loc_'):\n",
    "    X_4[f'discharge_loc_{col}'] = X_4[col] * X_4['time_in_hospital']\n",
    "\n",
    "\n",
    "\n",
    "print(f'num features after adding numerical interaction cols: {len(X_4.columns)}')"
   ]
  },
  {
   "cell_type": "markdown",
   "id": "01a16927",
   "metadata": {},
   "source": [
    "Categorical x Categorical interactions from one hot encoded columns"
   ]
  },
  {
   "cell_type": "code",
   "execution_count": 21,
   "id": "ad036812",
   "metadata": {},
   "outputs": [],
   "source": [
    "def add_dummy_interactions(df, left_cols, right_cols, prefix=''):\n",
    "    out = df.copy()\n",
    "    L = [c for c in left_cols  if c in out.columns]\n",
    "    R = [c for c in right_cols if c in out.columns]\n",
    "    for lc in L:\n",
    "        for rc in R:\n",
    "            out[f'{prefix}_{lc}__{rc}'] = out[lc] * out[rc]\n",
    "\n",
    "    return out"
   ]
  },
  {
   "cell_type": "code",
   "execution_count": 22,
   "id": "51b2cdee",
   "metadata": {},
   "outputs": [],
   "source": [
    "# setup column lists\n",
    "specialty_cols = X_4.filter(regex=r'^specialty_cat_').columns.to_list()\n",
    "age_cols = X_4.filter(regex=r'^age_group_').columns.to_list()\n",
    "diag_cols = X_4.filter(regex=r'^diag1_group_').columns.to_list()\n",
    "race_cols = X_4.filter(regex=r'^race_cat_').columns.to_list()\n",
    "discharge_cols = X_4.filter(regex=r'discharge_loc_').columns.to_list()"
   ]
  },
  {
   "cell_type": "code",
   "execution_count": 24,
   "id": "d640996c",
   "metadata": {},
   "outputs": [
    {
     "name": "stdout",
     "output_type": "stream",
     "text": [
      "num features after adding categorical interaction cols: 97\n"
     ]
    }
   ],
   "source": [
    "# medical specialty of admitting physician x age bin\n",
    "\n",
    "X_4 = add_dummy_interactions(\n",
    "    X_4,\n",
    "    left_cols=specialty_cols,\n",
    "    right_cols=age_cols\n",
    ")\n",
    "\n",
    "# discharge dispo x race\n",
    "X_4 = add_dummy_interactions(\n",
    "    X_4,\n",
    "    left_cols= discharge_cols,\n",
    "    right_cols=race_cols\n",
    ")\n",
    "\n",
    "# discharge x specialty\n",
    "\n",
    "X_4 = add_dummy_interactions(\n",
    "    X_4,\n",
    "    left_cols=discharge_cols,\n",
    "    right_cols=specialty_cols\n",
    ")\n",
    "\n",
    "print(f'num features after adding categorical interaction cols: {len(X_4.columns)}')\n"
   ]
  },
  {
   "cell_type": "code",
   "execution_count": null,
   "id": "2c99d191",
   "metadata": {},
   "outputs": [],
   "source": []
  }
 ],
 "metadata": {
  "kernelspec": {
   "display_name": ".venv",
   "language": "python",
   "name": "python3"
  },
  "language_info": {
   "codemirror_mode": {
    "name": "ipython",
    "version": 3
   },
   "file_extension": ".py",
   "mimetype": "text/x-python",
   "name": "python",
   "nbconvert_exporter": "python",
   "pygments_lexer": "ipython3",
   "version": "3.13.7"
  }
 },
 "nbformat": 4,
 "nbformat_minor": 5
}
