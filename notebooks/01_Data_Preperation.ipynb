{
 "cells": [
  {
   "cell_type": "markdown",
   "id": "af04dfd4",
   "metadata": {},
   "source": [
    "# DSCI 633 Project\n",
    "### Predicting Readmittance within 30 Days for Hospitalized Diabetes Patients  \n",
    "*Michael Eaton, Rochester Institute of Technology — Fall 2025*\n"
   ]
  },
  {
   "cell_type": "code",
   "execution_count": 41,
   "id": "b263e8b4",
   "metadata": {},
   "outputs": [],
   "source": [
    "from ucimlrepo import fetch_ucirepo \n",
    "import re\n",
    "import numpy as np\n",
    "import pandas as pd\n",
    "import matplotlib.pyplot as plt\n",
    "import seaborn as sns\n",
    "import os\n",
    "from pathlib import Path\n",
    "%matplotlib inline\n",
    "\n"
   ]
  },
  {
   "cell_type": "code",
   "execution_count": 42,
   "id": "35d8c74f",
   "metadata": {},
   "outputs": [],
   "source": [
    "DATA_DIR = Path('../src/shared_util/data')"
   ]
  },
  {
   "cell_type": "code",
   "execution_count": 43,
   "id": "d86b3f33",
   "metadata": {},
   "outputs": [],
   "source": [
    "os.makedirs(DATA_DIR, exist_ok=True)"
   ]
  },
  {
   "cell_type": "code",
   "execution_count": 44,
   "id": "bf54220e-7a4d-499d-bb04-dbbebd8f0166",
   "metadata": {},
   "outputs": [
    {
     "name": "stderr",
     "output_type": "stream",
     "text": [
      "/home/mike/Git-projects/Eaton_633_Project/.venv/lib/python3.13/site-packages/ucimlrepo/fetch.py:97: DtypeWarning: Columns (10) have mixed types. Specify dtype option on import or set low_memory=False.\n",
      "  df = pd.read_csv(data_url)\n"
     ]
    }
   ],
   "source": [
    "# fetch dataset \n",
    "diabetes_130_us_hospitals_for_years_1999_2008 = fetch_ucirepo(id=296) \n",
    "  \n",
    "# data (as pandas dataframes) \n",
    "X: pd.DataFrame = diabetes_130_us_hospitals_for_years_1999_2008.data.features  # type: ignore\n",
    "y :pd.DataFrame = diabetes_130_us_hospitals_for_years_1999_2008.data.targets.copy()  # type: ignore\n"
   ]
  },
  {
   "cell_type": "markdown",
   "id": "ea6862c8",
   "metadata": {},
   "source": [
    "## Data Cleaning"
   ]
  },
  {
   "cell_type": "markdown",
   "id": "7f1483d8",
   "metadata": {},
   "source": [
    "Fix columns not read as strings"
   ]
  },
  {
   "cell_type": "code",
   "execution_count": 45,
   "id": "0205a058-728c-421f-a9ab-ea5a1abe5848",
   "metadata": {},
   "outputs": [],
   "source": [
    "y['readmitted'] = y['readmitted'].astype('string')\n",
    "\n",
    "y['target'] = (y['readmitted'] == '<30').astype(int)\n",
    "\n",
    "\n",
    "# drop weight and payer_code missing and un informative\n",
    "X_0 = X.drop(columns=['weight', 'payer_code'])\n",
    "\n",
    "\n",
    "# fix diag column types\n",
    "X_0['diag_1'] = X_0['diag_1'].astype('string')\n",
    "X_0['diag_2'] = X_0['diag_2'].astype('string')\n",
    "X_0['diag_3'] = X_0['diag_3'].astype('string')\n",
    "\n",
    "# fix specialty column type\n",
    "X_0['medical_specialty'] = X_0['medical_specialty'].astype('string')\n",
    "\n",
    "# fix race\n",
    "X_0['race'] = X_0['race'].astype('string')\n",
    "\n",
    "# fix age\n",
    "X_0['age'] = X_0['age'].astype('string')\n",
    "\n",
    "X_0['change'] = X_0['change'].astype('string')\n"
   ]
  },
  {
   "cell_type": "code",
   "execution_count": 46,
   "id": "cf639d29",
   "metadata": {},
   "outputs": [
    {
     "name": "stdout",
     "output_type": "stream",
     "text": [
      "dropped: 16\n"
     ]
    }
   ],
   "source": [
    "# drop the newborn rows\n",
    "newborn = (X_0['admission_type_id'] == 4) | (X_0['discharge_disposition_id'] == 10)\n",
    "\n",
    "_pre = len(X_0)\n",
    "\n",
    "\n",
    "X_1 = X_0.loc[~newborn].reset_index(drop=True)\n",
    "y   = y.loc[~newborn].reset_index(drop=True)\n",
    "print(f'dropped: {_pre - len(X_1)}')"
   ]
  },
  {
   "cell_type": "code",
   "execution_count": 47,
   "id": "893fb204",
   "metadata": {},
   "outputs": [
    {
     "name": "stdout",
     "output_type": "stream",
     "text": [
      "dropped: 3\n"
     ]
    }
   ],
   "source": [
    "# Drop rows with invalid gender\n",
    "valid_gender = (X_1['gender'] == 'Male') | (X_1['gender'] == 'Female')\n",
    "_pre = len(X_1)\n",
    "X_2 = X_1.loc[valid_gender].reset_index(drop=True)\n",
    "y   = y.loc[valid_gender].reset_index(drop=True)\n",
    "print(f'dropped: {_pre - len(X_2)}')"
   ]
  },
  {
   "cell_type": "markdown",
   "id": "f4cb88e7",
   "metadata": {},
   "source": [
    "Drop the rows that contain information about a patient Expiring. These rows leak future information and was dropped in the study by Strack et al."
   ]
  },
  {
   "cell_type": "code",
   "execution_count": 48,
   "id": "39791851",
   "metadata": {},
   "outputs": [
    {
     "name": "stdout",
     "output_type": "stream",
     "text": [
      "dropped: 1652\n"
     ]
    }
   ],
   "source": [
    "# drop rows that show a patient expired\n",
    "\n",
    "# from mapping info\n",
    "_c = 'discharge_disposition_id'\n",
    "exp_mask = (X_2[_c] == 11) | ((X_2[_c] > 18) & (X_2[_c] < 21))\n",
    "\n",
    "_pre = len(X_2)\n",
    "X_3 = X_2.loc[~exp_mask].reset_index(drop=True)\n",
    "y   = y.loc[~exp_mask].reset_index(drop=True)\n",
    "print(f'dropped: {_pre - len(X_3)}')"
   ]
  },
  {
   "cell_type": "markdown",
   "id": "1edc8a90",
   "metadata": {},
   "source": [
    "After examining the numercial features further, the data showed that number_outpatient, number_emergency, and number_inpatient were heavily right skewed with the vast majority of data consisting of 0 of each visit type.\n",
    "\n",
    "However, number_inpatient has shown to be a dominant factor in model predictions.\n",
    "\n",
    "After testing combining the patient visit columns, recall dropped slightly in our random forest model without any increase in ROC_AUC or other metric changes so this seems like a poor decision - loss of information with no gain"
   ]
  },
  {
   "cell_type": "code",
   "execution_count": 49,
   "id": "0dab8524",
   "metadata": {},
   "outputs": [],
   "source": [
    "# X_0['num_vists'] = X_0[['number_outpatient', 'number_emergency', 'number_inpatient']].sum(axis=1)\n",
    "# X_0 = X_0.drop(columns=['number_outpatient', 'number_emergency', 'number_inpatient'])"
   ]
  },
  {
   "cell_type": "markdown",
   "id": "1c85283e",
   "metadata": {},
   "source": [
    "## Feature Engineering\n",
    "Bin, organize, impute missing data, drop some un-needed columns. \n",
    "\n",
    "The strategy that follows is based off of the strategy performed by Strack et al. in their study: \n",
    "\n",
    "*Impact of HbA1c Measurement on Hospital Readmission Rates:\n",
    "Analysis of 70,000 Clinical Database Patient Records*"
   ]
  },
  {
   "cell_type": "markdown",
   "id": "57ea0bde",
   "metadata": {},
   "source": [
    "I'll start by copying the binning strategy used to limit feature explosion\n",
    "\n",
    "diagnoses, medical specialty, discharge, admission source, age are binned exactly as in the mentioned study\n",
    "\n",
    "a1c results are binned into 3 groups, not in the same way as the study. They are split into (high, normal, and no test) with no test being the majority category by far.\n",
    "The change is due to the changed nature of the goals of our analysis, just prediction of readmittance instead of viewing the effects of performing the A1c test\n",
    "\n",
    "glucose tests are binned in the same way as A1c results\n",
    "\n",
    "Admission type is binned based on the following:\n",
    "- NA - missing values, null, not mapped\n",
    "- emergency - emergency, trauma center (highest level of urgency)\n",
    "- urgent - urgent (middle level urgency)\n",
    "- elective - elective (from a regularly scheduled prodecure)\n",
    "- newborn - dropped as newborns data is not related to the group of interest"
   ]
  },
  {
   "cell_type": "code",
   "execution_count": 50,
   "id": "d495c94e",
   "metadata": {},
   "outputs": [],
   "source": [
    "# bin diagnoses into groups \n",
    "_icd_num_re = re.compile(r'^(\\d{3})(?:\\.\\d+)?$')   # e.g., '250.13' -> '250'\n",
    "\n",
    "def _parse_icd9(code):\n",
    "    \"\"\"\n",
    "    Returns (prefix, num) where:\n",
    "      - prefix is 'E', 'V', or '' for numeric codes\n",
    "      - num is an integer 3-digit number if numeric; else None\n",
    "    \"\"\"\n",
    "    if code is None or (isinstance(code, float) and np.isnan(code)):\n",
    "        return '', None\n",
    "    s = str(code).strip()\n",
    "    if not s:\n",
    "        return '', None\n",
    "    first = s[0].upper()\n",
    "    if first in ('E', 'V'):\n",
    "        return first, None\n",
    "    m = _icd_num_re.match(s)\n",
    "    if m:\n",
    "        return '', int(m.group(1))\n",
    "    # Try float -> int of floor integer part\n",
    "    try:\n",
    "        return '', int(float(s))\n",
    "    except Exception:\n",
    "        return '', None\n",
    "\n",
    "def icd9_to_group(code):\n",
    "    \"\"\"\n",
    "    Map a single ICD-9 code to the study's diagnosis group.\n",
    "    \"\"\"\n",
    "    prefix, num = _parse_icd9(code)\n",
    "\n",
    "    # External causes (E or V) \n",
    "    if prefix in ('E', 'V'):\n",
    "        return 'other'\n",
    "\n",
    "    if num is None:\n",
    "        return 'other'\n",
    "\n",
    "    # Special case: Diabetes 250.xx\n",
    "    if 250 <= num <= 250:\n",
    "        return 'diabetes'\n",
    "\n",
    "    # Primary named groups\n",
    "    if (390 <= num <= 459) or (num == 785):\n",
    "        return 'circulatory'\n",
    "    if (460 <= num <= 519) or (num == 786):\n",
    "        return 'respiratory'\n",
    "    if (520 <= num <= 579) or (num == 787):\n",
    "        return 'digestive'\n",
    "    if 800 <= num <= 999:\n",
    "        return 'injury'\n",
    "    if 710 <= num <= 739:\n",
    "        return 'musculoskeletal'\n",
    "    if (580 <= num <= 629) or (num == 788):\n",
    "        return 'genitourinary'\n",
    "    if 140 <= num <= 239:\n",
    "        return 'neoplasms'\n",
    "\n",
    "    return 'other'"
   ]
  },
  {
   "cell_type": "code",
   "execution_count": 51,
   "id": "a291a7b2",
   "metadata": {},
   "outputs": [],
   "source": [
    "# Admission source -> 3 bins\n",
    "def bin_admit_source(id: int) -> str:\n",
    "    if id == 7:\n",
    "        return 'emergency'\n",
    "    if id == 1 or id == 2:\n",
    "        return 'refer'\n",
    "    return 'other'\n"
   ]
  },
  {
   "cell_type": "code",
   "execution_count": 52,
   "id": "a467d363",
   "metadata": {},
   "outputs": [],
   "source": [
    "# Medical Specialty of admitting physician -> 6 bins including missing\n",
    "def bin_medical_specialty(value: str) -> str:\n",
    "    if pd.isna(value) or value in (\"Missing\", \"Unknown\", \"PhysicianNotFound\", \"OutreachServices\", \"DCPTEAM\"):\n",
    "        return \"missing\"\n",
    "    \n",
    "    # normalize casing and spacing just in case\n",
    "    val = str(value).strip().lower()\n",
    "    \n",
    "    # Internal Medicine\n",
    "    if \"internal\" in val:\n",
    "        return \"internal_medicine\"\n",
    "    \n",
    "    # Cardiology\n",
    "    if \"cardio\" in val:\n",
    "        return \"cardiology\"\n",
    "    \n",
    "    # Surgery (catch-all for surgical specialties)\n",
    "    if \"surg\" in val or \"orthopedic\" in val or \"urology\" in val or \"gyneco\" in val or \"neuro\" in val or \"vascular\" in val or \"thoracic\" in val:\n",
    "        return \"surgery\"\n",
    "    \n",
    "    # Family / General Practice\n",
    "    if \"family\" in val or \"general\" in val or \"gp\" in val or \"obstetric\" in val or \"pediatr\" in val:\n",
    "        return \"pcp\"\n",
    "    \n",
    "    # Everything else\n",
    "    return \"other\"\n"
   ]
  },
  {
   "cell_type": "code",
   "execution_count": 53,
   "id": "e30222f5",
   "metadata": {},
   "outputs": [],
   "source": [
    "# Discharge Dispostion -> \n",
    "def bin_discharge(id: int) -> str:\n",
    "    if id in [1, 6, 8, 13]:\n",
    "        return 'home'\n",
    "    if id in [2, 3, 4, 5, 15, 22, 23, 24, 27, 28, 29, 30]:\n",
    "        return 'transfer_inpatient'\n",
    "    if id in [16, 17, 12]:\n",
    "        return 'outpatient_followup'\n",
    "    if id == 7:\n",
    "        return 'left_ama'\n",
    "    if id in [18, 25, 26]:\n",
    "        return 'unknown'\n",
    "    return 'unknown'\n",
    "    "
   ]
  },
  {
   "cell_type": "code",
   "execution_count": 54,
   "id": "4246ae72",
   "metadata": {},
   "outputs": [],
   "source": [
    "# bin race -> Hispanic/Asian -> other since they have few values\n",
    "def bin_race(race: str) -> str:\n",
    "    if (pd.isna(race)):\n",
    "        return \"other\"\n",
    "    race = race.strip().lower()\n",
    "    if race == \"caucasian\":\n",
    "        return \"caucasian\"\n",
    "    if race == \"africanamerican\":\n",
    "        return \"african_american\"\n",
    "    return \"other\""
   ]
  },
  {
   "cell_type": "code",
   "execution_count": 55,
   "id": "6cdae10b",
   "metadata": {},
   "outputs": [],
   "source": [
    "# bin admission type id \n",
    "def bin_admit_type(id: int) -> str:\n",
    "    if id in [5, 6, 8]: # Not Available, NULL, Not mapped\n",
    "        return 'na'\n",
    "    if id in [1,7]: # Emergency, Trauma Center\n",
    "        return 'emergency'\n",
    "    if id == 2:\n",
    "        return 'urgent'\n",
    "    if id == 3:\n",
    "        return 'elective'\n",
    "    return 'other'\n"
   ]
  },
  {
   "cell_type": "code",
   "execution_count": 56,
   "id": "3c38353b",
   "metadata": {},
   "outputs": [],
   "source": [
    "# bin age -> 3 groups\n",
    "def bin_age(age: str) -> str:\n",
    "    # grabs [0-10], [10-20], [20-30]\n",
    "    if ('10' in age or '20' in age):\n",
    "        return '<30'\n",
    "    # grabs (30-40), (40-50), (50-60)\n",
    "    if ('40' in age or '50' in age):\n",
    "        return '30-60'\n",
    "    return '>60'"
   ]
  },
  {
   "cell_type": "code",
   "execution_count": 57,
   "id": "53f489bd",
   "metadata": {},
   "outputs": [],
   "source": [
    "# bin a1c results\n",
    "def bin_a1c(val: str) -> str:\n",
    "    if pd.isna(val):\n",
    "        return 'no_test'\n",
    "    if val in ('>7', '>8'):\n",
    "        return 'high'\n",
    "    if val.lower().startswith('norm'):\n",
    "        return 'normal'\n",
    "    return 'no_test'"
   ]
  },
  {
   "cell_type": "code",
   "execution_count": 58,
   "id": "04170e59",
   "metadata": {},
   "outputs": [],
   "source": [
    "def bin_glucose(val: str) -> str:\n",
    "    if pd.isna(val):\n",
    "        return 'no_test'\n",
    "    if val in ('>200', '>300'):\n",
    "        return 'high'\n",
    "    if val.lower().startswith('norm'):\n",
    "        return 'normal'\n",
    "    return 'no_test'"
   ]
  },
  {
   "cell_type": "markdown",
   "id": "8bc9fa00",
   "metadata": {},
   "source": [
    "Apply the categorical transformations"
   ]
  },
  {
   "cell_type": "code",
   "execution_count": 59,
   "id": "28a00cda",
   "metadata": {},
   "outputs": [],
   "source": [
    "X_3['diag1_group'] = X_3['diag_1'].apply(icd9_to_group)\n",
    "X_3['diag2_group'] = X_3['diag_2'].apply(icd9_to_group)\n",
    "X_3['diag3_group'] = X_3['diag_3'].apply(icd9_to_group)\n",
    "X_3['admission_source'] = X_3['admission_source_id'].apply(bin_admit_source)\n",
    "X_3['discharge_loc'] = X_3['discharge_disposition_id'].apply(bin_discharge)\n",
    "X_3['specialty_cat'] = X_3['medical_specialty'].apply(bin_medical_specialty)\n",
    "X_3['race_cat'] = X_3['race'].apply(bin_race)\n",
    "X_3['age_group'] = X_3['age'].apply(bin_age)\n",
    "X_3['a1c_group'] = X_3['A1Cresult'].apply(bin_a1c)\n",
    "X_3['glucose_group'] = X_3['max_glu_serum'].apply(bin_glucose)\n",
    "X_3['admit_type_group'] = X_3['admission_type_id'].apply(bin_admit_type)"
   ]
  },
  {
   "cell_type": "code",
   "execution_count": 60,
   "id": "24f0eb41",
   "metadata": {},
   "outputs": [
    {
     "name": "stdout",
     "output_type": "stream",
     "text": [
      "             column  most_common  count\n",
      "0       diag1_group  circulatory  29875\n",
      "1  admission_source    emergency  56356\n",
      "2     discharge_loc         home  73631\n",
      "3     specialty_cat      missing  49142\n",
      "4          race_cat    caucasian  74835\n",
      "5         age_group          >60  64439\n",
      "6            gender       Female  53854\n",
      "7         a1c_group      no_test  83222\n",
      "8     glucose_group      no_test  94876\n",
      "9  admit_type_group    emergency  52900\n"
     ]
    }
   ],
   "source": [
    "# print info about the majority category of each column of interest\n",
    "cols_to_check =['diag1_group',\n",
    "                'admission_source',\n",
    "                'discharge_loc',\n",
    "                'specialty_cat',\n",
    "                'race_cat',\n",
    "                'age_group',\n",
    "                'gender',\n",
    "                'a1c_group',\n",
    "                'glucose_group',\n",
    "                'admit_type_group'\n",
    "                ]\n",
    "\n",
    "most_common_summary = pd.DataFrame(\n",
    "    [\n",
    "        {\n",
    "            \"column\": col,\n",
    "            \"most_common\": (vc := X_3[col].value_counts(dropna=False)).idxmax(),\n",
    "            \"count\": vc.max()\n",
    "        }\n",
    "        for col in cols_to_check\n",
    "    ]\n",
    ")\n",
    "\n",
    "print(most_common_summary)"
   ]
  },
  {
   "cell_type": "markdown",
   "id": "c2ab8d52",
   "metadata": {},
   "source": [
    "Drop the old columns"
   ]
  },
  {
   "cell_type": "code",
   "execution_count": 61,
   "id": "9b9ae9e7",
   "metadata": {},
   "outputs": [],
   "source": [
    "\n",
    "# drop previous columns in favor of new groups\n",
    "X_4 = X_3.drop(\n",
    "    columns=['diag_1', \n",
    "             'diag_2', \n",
    "             'diag_3', \n",
    "             'admission_source_id',\n",
    "             'discharge_disposition_id',\n",
    "             'medical_specialty',\n",
    "             'race',\n",
    "             'age',\n",
    "             'A1Cresult',\n",
    "             'max_glu_serum',\n",
    "             'admission_type_id'\n",
    "             ])"
   ]
  },
  {
   "cell_type": "markdown",
   "id": "8c0a570a",
   "metadata": {},
   "source": [
    "One hot encode the new categories"
   ]
  },
  {
   "cell_type": "code",
   "execution_count": 62,
   "id": "e93fc101",
   "metadata": {},
   "outputs": [
    {
     "name": "stdout",
     "output_type": "stream",
     "text": [
      "num features before: 45\n",
      "num features after: 92\n"
     ]
    }
   ],
   "source": [
    "# one hot categorical columns\n",
    "X_5 = pd.get_dummies(X_4, \n",
    "                     columns=[  'diag1_group', \n",
    "                                'diag2_group', \n",
    "                                'diag3_group', \n",
    "                                'admission_source',\n",
    "                                'discharge_loc',\n",
    "                                'specialty_cat',\n",
    "                                'race_cat',\n",
    "                                'age_group',\n",
    "                                'gender',\n",
    "                                'a1c_group',\n",
    "                                'glucose_group',\n",
    "                                'admit_type_group'\n",
    "                              ],\n",
    "                              dtype=int)\n",
    "\n",
    "print(f'num features before: {len(X_4.columns)}')\n",
    "print(f'num features after: {len(X_5.columns)}')\n",
    "# prefer lower case\n",
    "X_5 = X_5.rename(columns={'gender_Female' : 'gender_female', 'gender_Male' : 'gender_male'})\n",
    "\n",
    "\n",
    "\n"
   ]
  },
  {
   "cell_type": "markdown",
   "id": "3496fb8a",
   "metadata": {},
   "source": [
    "Handle drug columns by swapping them to binary flags"
   ]
  },
  {
   "cell_type": "code",
   "execution_count": 63,
   "id": "4c9422b3",
   "metadata": {},
   "outputs": [],
   "source": [
    "# swap to binary flags\n",
    "X_5['diabetesMed_flag'] = (X_5['diabetesMed'].str.lower() == 'yes').astype(int)\n",
    "X_5['change_flag'] = (X_5['change'].str.lower() == 'ch').astype(int)\n",
    "\n",
    "\n",
    "\n",
    "# dump frame before we start dropping columns, for potential deep models if used\n",
    "X_5.to_csv(DATA_DIR / 'full_frame.csv')\n",
    "\n",
    "\n",
    "drug_cols = [\n",
    "    'metformin', 'repaglinide', 'nateglinide', 'chlorpropamide', 'glimepiride',\n",
    "    'acetohexamide', 'glipizide', 'glyburide', 'tolbutamide', 'pioglitazone',\n",
    "    'rosiglitazone', 'acarbose', 'miglitol', 'troglitazone', 'tolazamide',\n",
    "    'examide', 'citoglipton', 'insulin', 'glyburide-metformin',\n",
    "    'glipizide-metformin', 'glimepiride-pioglitazone',\n",
    "    'metformin-rosiglitazone', 'metformin-pioglitazone'\n",
    "]\n",
    "\n",
    "\n",
    "for col in drug_cols:\n",
    "    X_5[f'{col}_flag'] = (X_5[col].str.lower() != 'no').astype(int)\n"
   ]
  },
  {
   "cell_type": "markdown",
   "id": "d373c57a",
   "metadata": {},
   "source": [
    "We take the sum of each column of drugs administered. 24 different drug columns is overkill for a linear model. This allows us to drop a significant amount of features without losing very much information. \n",
    "\n",
    "More advanced models might be able to handle the per drug information, which also includes values like 'up' 'down' for medication changes per drug"
   ]
  },
  {
   "cell_type": "code",
   "execution_count": 64,
   "id": "e7b15718",
   "metadata": {},
   "outputs": [],
   "source": [
    "# sum across medicine for amount of medicine prescribed\n",
    "X_5['num_drugs'] = X_5[[f'{c}_flag' for c in drug_cols]].sum(axis=1)"
   ]
  },
  {
   "cell_type": "markdown",
   "id": "7060d435",
   "metadata": {},
   "source": [
    "Drop one base category from each one hot group to avoid linear dependent columns"
   ]
  },
  {
   "cell_type": "code",
   "execution_count": 65,
   "id": "0a1ee697",
   "metadata": {},
   "outputs": [
    {
     "name": "stdout",
     "output_type": "stream",
     "text": [
      "num features after drops: 62\n"
     ]
    }
   ],
   "source": [
    "# generally we drop the most common class printed earlier:\n",
    "\n",
    "#           column      most_common  count\n",
    "# 0       diag1_group  Circulatory  30437\n",
    "# 1  admission_source    emergency  57494\n",
    "# 2     discharge_loc         home  60234\n",
    "# 3     specialty_cat      Missing  49978\n",
    "# 4          race_cat    Caucasian  76099\n",
    "# 5         age_group          >60  65748\n",
    "# 6            gender       Female  54708\n",
    "# 7         a1c_group      No_test  84748\n",
    "# 8     glucose_group      No_test  96420\n",
    "# 9  admit_type_group    Emergency  54011\n",
    "\n",
    "X_6 = X_5.drop(\n",
    "    columns=[\n",
    "        'diag1_group_circulatory', \n",
    "        'specialty_cat_missing', \n",
    "        'age_group_30-60', # mid age group\n",
    "        'race_cat_caucasian', \n",
    "        'gender_male', # most common base for medical studies\n",
    "        'discharge_loc_home', \n",
    "        'admission_source_other',\n",
    "        'a1c_group_no_test',\n",
    "        'glucose_group_no_test',\n",
    "        'admit_type_group_emergency'\n",
    "        \n",
    "    ]\n",
    ")\n",
    "\n",
    "# drop other flag columns\n",
    "\n",
    "X_7 = X_6.drop(\n",
    "    columns=[\n",
    "        'diabetesMed',\n",
    "        'change'\n",
    "    ]\n",
    ")\n",
    "# drop drug columns\n",
    "X_8 = X_7.drop(\n",
    "    columns=drug_cols\n",
    ")\n",
    "\n",
    "# keep insulin and metformin columns (binary yes no prescribed)\n",
    "# these are the 2 major long term diatbetes treatment drugs and are most likely to have an effect on readmission\n",
    "drug_cols.remove('insulin')\n",
    "drug_cols.remove('metformin')\n",
    "\n",
    "# Create the list of flag columns\n",
    "flag_cols = [f\"{c}_flag\" for c in drug_cols]\n",
    "# Drop them from the DataFrame\n",
    "X_9 = X_8.drop(columns=flag_cols)\n",
    "\n",
    "\n",
    "\n",
    "\n",
    "\n",
    "print(f'num features after drops: {len(X_9.columns)}')\n",
    "\n",
    "X_9_w = pd.concat([X_9, y['target']], axis=1)\n",
    "X_9_w.to_csv(DATA_DIR / 'frame_no_interactions.csv')\n"
   ]
  },
  {
   "cell_type": "markdown",
   "id": "eb715a0c",
   "metadata": {},
   "source": [
    "### Create interaction terms\n",
    "Baseline will be the interaction terms that were found statistically signifigant in Strack et al.\n",
    "\n",
    "That is (by P):\n",
    "- Discharge disposition × Time in hospital (p < 0.001)\n",
    "- Medical specialty of admitting physician × Age (p < 0.001)\n",
    "- Primary diagnosis × Time in hospital (p < 0.001)\n",
    "- Discharge disposition × Race (p < 0.001)\n",
    "- Discharge disposition × Medical specialty of admitting physician (p = 0.001)\n",
    "- Medical Specialty x Time in hospitcal (p = 0.001)\n",
    "\n",
    "I'll leave out for now:\n",
    "- Discharge disposition x Primary diagnosis (p = 0.005)\n",
    "- Primary diagnosis x HbA1c (p = 0.004)\n"
   ]
  },
  {
   "cell_type": "markdown",
   "id": "7af97a8e",
   "metadata": {},
   "source": [
    "Categorical x numerical interactions"
   ]
  },
  {
   "cell_type": "code",
   "execution_count": 66,
   "id": "842c2079",
   "metadata": {},
   "outputs": [
    {
     "name": "stdout",
     "output_type": "stream",
     "text": [
      "added col: i_hosp_time_diag1_group_diabetes\n",
      "added col: i_hosp_time_diag1_group_digestive\n",
      "added col: i_hosp_time_diag1_group_genitourinary\n",
      "added col: i_hosp_time_diag1_group_injury\n",
      "added col: i_hosp_time_diag1_group_musculoskeletal\n",
      "added col: i_hosp_time_diag1_group_neoplasms\n",
      "added col: i_hosp_time_diag1_group_other\n",
      "added col: i_hosp_time_diag1_group_respiratory\n",
      "--\n",
      "added col: i_hosp_time_specialty_cat_cardiology\n",
      "added col: i_hosp_time_specialty_cat_internal_medicine\n",
      "added col: i_hosp_time_specialty_cat_other\n",
      "added col: i_hosp_time_specialty_cat_pcp\n",
      "added col: i_hosp_time_specialty_cat_surgery\n",
      "--\n",
      "added col: i_hosp_time__discharge_loc_left_ama\n",
      "added col: i_hosp_time__discharge_loc_outpatient_followup\n",
      "added col: i_hosp_time__discharge_loc_transfer_inpatient\n",
      "added col: i_hosp_time__discharge_loc_unknown\n",
      "num features after adding numerical interaction cols: 79\n"
     ]
    }
   ],
   "source": [
    "# Primary Diagnosis X Time in hospital interaction\n",
    "X_10 = X_9.copy()\n",
    "for col in X_10.filter(like='diag1_group_'):\n",
    "    X_10[f'i_hosp_time__{col}'] = X_10[col] * X_10['time_in_hospital']\n",
    "    print(f'added col: {f'i_hosp_time_{col}'}')\n",
    "print('--')\n",
    "# medical specialty of admitting physician x time in hospital\n",
    "for col in X_10.filter(like='specialty_cat_'):\n",
    "    X_10[f'i_hosp_time__{col}'] = X_10[col] * X_10['time_in_hospital']\n",
    "    print(f'added col: {f'i_hosp_time_{col}'}')\n",
    "\n",
    "print('--')\n",
    "\n",
    "# Discharge Disposition x time in hospital\n",
    "for col in X_10.filter(regex=r'^discharge_loc_'):\n",
    "    X_10[f'i_hosp_time__{col}'] = X_10[col] * X_10['time_in_hospital']\n",
    "    print(f'added col: {f'i_hosp_time__{col}'}')\n",
    "\n",
    "\n",
    "\n",
    "print(f'num features after adding numerical interaction cols: {len(X_10.columns)}')"
   ]
  },
  {
   "cell_type": "markdown",
   "id": "01a16927",
   "metadata": {},
   "source": [
    "Categorical x Categorical interactions from one hot encoded columns"
   ]
  },
  {
   "cell_type": "code",
   "execution_count": 67,
   "id": "ad036812",
   "metadata": {},
   "outputs": [],
   "source": [
    "def add_dummy_interactions(df, left_cols, right_cols, prefix='i_'):\n",
    "    out = df.copy()\n",
    "    L = [c for c in left_cols  if c in out.columns]\n",
    "    R = [c for c in right_cols if c in out.columns]\n",
    "    count = 0\n",
    "    for lc in L:\n",
    "        for rc in R:\n",
    "            col_name = f'{prefix}{lc}__{rc}'\n",
    "            out[col_name] = out[lc] * out[rc]\n",
    "            count += 1\n",
    "            print(f'added col: {col_name}')\n",
    "\n",
    "    print(f'added {count} interaction terms from')\n",
    "    print(left_cols)\n",
    "    print('x')\n",
    "    print(right_cols)\n",
    "\n",
    "    return out"
   ]
  },
  {
   "cell_type": "code",
   "execution_count": 68,
   "id": "51b2cdee",
   "metadata": {},
   "outputs": [],
   "source": [
    "# setup column lists\n",
    "specialty_cols = X_10.filter(regex=r'^specialty_cat_').columns.to_list()\n",
    "age_cols = X_10.filter(regex=r'^age_group_').columns.to_list()\n",
    "diag_cols = X_10.filter(regex=r'^diag1_group_').columns.to_list()\n",
    "race_cols = X_10.filter(regex=r'^race_cat_').columns.to_list()\n",
    "discharge_cols = X_10.filter(regex=r'^discharge_loc_').columns.to_list()"
   ]
  },
  {
   "cell_type": "code",
   "execution_count": 69,
   "id": "d640996c",
   "metadata": {},
   "outputs": [
    {
     "name": "stdout",
     "output_type": "stream",
     "text": [
      "added col: i_specialty_cat_cardiology__age_group_<30\n",
      "added col: i_specialty_cat_cardiology__age_group_>60\n",
      "added col: i_specialty_cat_internal_medicine__age_group_<30\n",
      "added col: i_specialty_cat_internal_medicine__age_group_>60\n",
      "added col: i_specialty_cat_other__age_group_<30\n",
      "added col: i_specialty_cat_other__age_group_>60\n",
      "added col: i_specialty_cat_pcp__age_group_<30\n",
      "added col: i_specialty_cat_pcp__age_group_>60\n",
      "added col: i_specialty_cat_surgery__age_group_<30\n",
      "added col: i_specialty_cat_surgery__age_group_>60\n",
      "added 10 interaction terms from\n",
      "['specialty_cat_cardiology', 'specialty_cat_internal_medicine', 'specialty_cat_other', 'specialty_cat_pcp', 'specialty_cat_surgery']\n",
      "x\n",
      "['age_group_<30', 'age_group_>60']\n",
      "added col: i_discharge_loc_left_ama__race_cat_african_american\n",
      "added col: i_discharge_loc_left_ama__race_cat_other\n",
      "added col: i_discharge_loc_outpatient_followup__race_cat_african_american\n",
      "added col: i_discharge_loc_outpatient_followup__race_cat_other\n",
      "added col: i_discharge_loc_transfer_inpatient__race_cat_african_american\n",
      "added col: i_discharge_loc_transfer_inpatient__race_cat_other\n",
      "added col: i_discharge_loc_unknown__race_cat_african_american\n",
      "added col: i_discharge_loc_unknown__race_cat_other\n",
      "added 8 interaction terms from\n",
      "['discharge_loc_left_ama', 'discharge_loc_outpatient_followup', 'discharge_loc_transfer_inpatient', 'discharge_loc_unknown']\n",
      "x\n",
      "['race_cat_african_american', 'race_cat_other']\n",
      "added col: i_discharge_loc_left_ama__specialty_cat_cardiology\n",
      "added col: i_discharge_loc_left_ama__specialty_cat_internal_medicine\n",
      "added col: i_discharge_loc_left_ama__specialty_cat_other\n",
      "added col: i_discharge_loc_left_ama__specialty_cat_pcp\n",
      "added col: i_discharge_loc_left_ama__specialty_cat_surgery\n",
      "added col: i_discharge_loc_outpatient_followup__specialty_cat_cardiology\n",
      "added col: i_discharge_loc_outpatient_followup__specialty_cat_internal_medicine\n",
      "added col: i_discharge_loc_outpatient_followup__specialty_cat_other\n",
      "added col: i_discharge_loc_outpatient_followup__specialty_cat_pcp\n",
      "added col: i_discharge_loc_outpatient_followup__specialty_cat_surgery\n",
      "added col: i_discharge_loc_transfer_inpatient__specialty_cat_cardiology\n",
      "added col: i_discharge_loc_transfer_inpatient__specialty_cat_internal_medicine\n",
      "added col: i_discharge_loc_transfer_inpatient__specialty_cat_other\n",
      "added col: i_discharge_loc_transfer_inpatient__specialty_cat_pcp\n",
      "added col: i_discharge_loc_transfer_inpatient__specialty_cat_surgery\n",
      "added col: i_discharge_loc_unknown__specialty_cat_cardiology\n",
      "added col: i_discharge_loc_unknown__specialty_cat_internal_medicine\n",
      "added col: i_discharge_loc_unknown__specialty_cat_other\n",
      "added col: i_discharge_loc_unknown__specialty_cat_pcp\n",
      "added col: i_discharge_loc_unknown__specialty_cat_surgery\n",
      "added 20 interaction terms from\n",
      "['discharge_loc_left_ama', 'discharge_loc_outpatient_followup', 'discharge_loc_transfer_inpatient', 'discharge_loc_unknown']\n",
      "x\n",
      "['specialty_cat_cardiology', 'specialty_cat_internal_medicine', 'specialty_cat_other', 'specialty_cat_pcp', 'specialty_cat_surgery']\n",
      "num features after adding categorical interaction cols: 117\n"
     ]
    }
   ],
   "source": [
    "# medical specialty of admitting physician x age bin\n",
    "X_11= X_10.copy()\n",
    "X_11 = add_dummy_interactions(\n",
    "    X_11,\n",
    "    left_cols=specialty_cols,\n",
    "    right_cols=age_cols\n",
    ")\n",
    "\n",
    "# discharge dispo x race\n",
    "X_11 = add_dummy_interactions(\n",
    "    X_11,\n",
    "    left_cols= discharge_cols,\n",
    "    right_cols=race_cols\n",
    ")\n",
    "\n",
    "# discharge x specialty\n",
    "\n",
    "X_11 = add_dummy_interactions(\n",
    "    X_11,\n",
    "    left_cols=discharge_cols,\n",
    "    right_cols=specialty_cols\n",
    ")\n",
    "\n",
    "print(f'num features after adding categorical interaction cols: {len(X_11.columns)}')\n"
   ]
  },
  {
   "cell_type": "code",
   "execution_count": 70,
   "id": "2c99d191",
   "metadata": {},
   "outputs": [],
   "source": [
    "X_11_w = pd.concat([X_11, y['target']], axis=1)\n",
    "X_11_w.to_csv(DATA_DIR / 'linear_frame.csv')"
   ]
  },
  {
   "cell_type": "code",
   "execution_count": 71,
   "id": "fcb21608",
   "metadata": {},
   "outputs": [
    {
     "name": "stdout",
     "output_type": "stream",
     "text": [
      "number of features: 117\n"
     ]
    }
   ],
   "source": [
    "print(f'number of features: {len(X_11.columns)}')"
   ]
  },
  {
   "cell_type": "code",
   "execution_count": 72,
   "id": "ef14cff1",
   "metadata": {},
   "outputs": [
    {
     "data": {
      "text/html": [
       "<div>\n",
       "<style scoped>\n",
       "    .dataframe tbody tr th:only-of-type {\n",
       "        vertical-align: middle;\n",
       "    }\n",
       "\n",
       "    .dataframe tbody tr th {\n",
       "        vertical-align: top;\n",
       "    }\n",
       "\n",
       "    .dataframe thead th {\n",
       "        text-align: right;\n",
       "    }\n",
       "</style>\n",
       "<table border=\"1\" class=\"dataframe\">\n",
       "  <thead>\n",
       "    <tr style=\"text-align: right;\">\n",
       "      <th></th>\n",
       "      <th>time_in_hospital</th>\n",
       "      <th>num_lab_procedures</th>\n",
       "      <th>num_procedures</th>\n",
       "      <th>num_medications</th>\n",
       "      <th>number_outpatient</th>\n",
       "      <th>number_emergency</th>\n",
       "      <th>number_inpatient</th>\n",
       "      <th>number_diagnoses</th>\n",
       "      <th>diag1_group_diabetes</th>\n",
       "      <th>diag1_group_digestive</th>\n",
       "      <th>...</th>\n",
       "      <th>i_discharge_loc_transfer_inpatient__specialty_cat_cardiology</th>\n",
       "      <th>i_discharge_loc_transfer_inpatient__specialty_cat_internal_medicine</th>\n",
       "      <th>i_discharge_loc_transfer_inpatient__specialty_cat_other</th>\n",
       "      <th>i_discharge_loc_transfer_inpatient__specialty_cat_pcp</th>\n",
       "      <th>i_discharge_loc_transfer_inpatient__specialty_cat_surgery</th>\n",
       "      <th>i_discharge_loc_unknown__specialty_cat_cardiology</th>\n",
       "      <th>i_discharge_loc_unknown__specialty_cat_internal_medicine</th>\n",
       "      <th>i_discharge_loc_unknown__specialty_cat_other</th>\n",
       "      <th>i_discharge_loc_unknown__specialty_cat_pcp</th>\n",
       "      <th>i_discharge_loc_unknown__specialty_cat_surgery</th>\n",
       "    </tr>\n",
       "  </thead>\n",
       "  <tbody>\n",
       "    <tr>\n",
       "      <th>0</th>\n",
       "      <td>1</td>\n",
       "      <td>41</td>\n",
       "      <td>0</td>\n",
       "      <td>1</td>\n",
       "      <td>0</td>\n",
       "      <td>0</td>\n",
       "      <td>0</td>\n",
       "      <td>1</td>\n",
       "      <td>1</td>\n",
       "      <td>0</td>\n",
       "      <td>...</td>\n",
       "      <td>0</td>\n",
       "      <td>0</td>\n",
       "      <td>0</td>\n",
       "      <td>0</td>\n",
       "      <td>0</td>\n",
       "      <td>0</td>\n",
       "      <td>0</td>\n",
       "      <td>0</td>\n",
       "      <td>1</td>\n",
       "      <td>0</td>\n",
       "    </tr>\n",
       "    <tr>\n",
       "      <th>1</th>\n",
       "      <td>3</td>\n",
       "      <td>59</td>\n",
       "      <td>0</td>\n",
       "      <td>18</td>\n",
       "      <td>0</td>\n",
       "      <td>0</td>\n",
       "      <td>0</td>\n",
       "      <td>9</td>\n",
       "      <td>0</td>\n",
       "      <td>0</td>\n",
       "      <td>...</td>\n",
       "      <td>0</td>\n",
       "      <td>0</td>\n",
       "      <td>0</td>\n",
       "      <td>0</td>\n",
       "      <td>0</td>\n",
       "      <td>0</td>\n",
       "      <td>0</td>\n",
       "      <td>0</td>\n",
       "      <td>0</td>\n",
       "      <td>0</td>\n",
       "    </tr>\n",
       "    <tr>\n",
       "      <th>2</th>\n",
       "      <td>2</td>\n",
       "      <td>11</td>\n",
       "      <td>5</td>\n",
       "      <td>13</td>\n",
       "      <td>2</td>\n",
       "      <td>0</td>\n",
       "      <td>1</td>\n",
       "      <td>6</td>\n",
       "      <td>0</td>\n",
       "      <td>0</td>\n",
       "      <td>...</td>\n",
       "      <td>0</td>\n",
       "      <td>0</td>\n",
       "      <td>0</td>\n",
       "      <td>0</td>\n",
       "      <td>0</td>\n",
       "      <td>0</td>\n",
       "      <td>0</td>\n",
       "      <td>0</td>\n",
       "      <td>0</td>\n",
       "      <td>0</td>\n",
       "    </tr>\n",
       "    <tr>\n",
       "      <th>3</th>\n",
       "      <td>2</td>\n",
       "      <td>44</td>\n",
       "      <td>1</td>\n",
       "      <td>16</td>\n",
       "      <td>0</td>\n",
       "      <td>0</td>\n",
       "      <td>0</td>\n",
       "      <td>7</td>\n",
       "      <td>0</td>\n",
       "      <td>0</td>\n",
       "      <td>...</td>\n",
       "      <td>0</td>\n",
       "      <td>0</td>\n",
       "      <td>0</td>\n",
       "      <td>0</td>\n",
       "      <td>0</td>\n",
       "      <td>0</td>\n",
       "      <td>0</td>\n",
       "      <td>0</td>\n",
       "      <td>0</td>\n",
       "      <td>0</td>\n",
       "    </tr>\n",
       "    <tr>\n",
       "      <th>4</th>\n",
       "      <td>1</td>\n",
       "      <td>51</td>\n",
       "      <td>0</td>\n",
       "      <td>8</td>\n",
       "      <td>0</td>\n",
       "      <td>0</td>\n",
       "      <td>0</td>\n",
       "      <td>5</td>\n",
       "      <td>0</td>\n",
       "      <td>0</td>\n",
       "      <td>...</td>\n",
       "      <td>0</td>\n",
       "      <td>0</td>\n",
       "      <td>0</td>\n",
       "      <td>0</td>\n",
       "      <td>0</td>\n",
       "      <td>0</td>\n",
       "      <td>0</td>\n",
       "      <td>0</td>\n",
       "      <td>0</td>\n",
       "      <td>0</td>\n",
       "    </tr>\n",
       "  </tbody>\n",
       "</table>\n",
       "<p>5 rows × 117 columns</p>\n",
       "</div>"
      ],
      "text/plain": [
       "   time_in_hospital  num_lab_procedures  num_procedures  num_medications  \\\n",
       "0                 1                  41               0                1   \n",
       "1                 3                  59               0               18   \n",
       "2                 2                  11               5               13   \n",
       "3                 2                  44               1               16   \n",
       "4                 1                  51               0                8   \n",
       "\n",
       "   number_outpatient  number_emergency  number_inpatient  number_diagnoses  \\\n",
       "0                  0                 0                 0                 1   \n",
       "1                  0                 0                 0                 9   \n",
       "2                  2                 0                 1                 6   \n",
       "3                  0                 0                 0                 7   \n",
       "4                  0                 0                 0                 5   \n",
       "\n",
       "   diag1_group_diabetes  diag1_group_digestive  ...  \\\n",
       "0                     1                      0  ...   \n",
       "1                     0                      0  ...   \n",
       "2                     0                      0  ...   \n",
       "3                     0                      0  ...   \n",
       "4                     0                      0  ...   \n",
       "\n",
       "   i_discharge_loc_transfer_inpatient__specialty_cat_cardiology  \\\n",
       "0                                                  0              \n",
       "1                                                  0              \n",
       "2                                                  0              \n",
       "3                                                  0              \n",
       "4                                                  0              \n",
       "\n",
       "   i_discharge_loc_transfer_inpatient__specialty_cat_internal_medicine  \\\n",
       "0                                                  0                     \n",
       "1                                                  0                     \n",
       "2                                                  0                     \n",
       "3                                                  0                     \n",
       "4                                                  0                     \n",
       "\n",
       "   i_discharge_loc_transfer_inpatient__specialty_cat_other  \\\n",
       "0                                                  0         \n",
       "1                                                  0         \n",
       "2                                                  0         \n",
       "3                                                  0         \n",
       "4                                                  0         \n",
       "\n",
       "   i_discharge_loc_transfer_inpatient__specialty_cat_pcp  \\\n",
       "0                                                  0       \n",
       "1                                                  0       \n",
       "2                                                  0       \n",
       "3                                                  0       \n",
       "4                                                  0       \n",
       "\n",
       "   i_discharge_loc_transfer_inpatient__specialty_cat_surgery  \\\n",
       "0                                                  0           \n",
       "1                                                  0           \n",
       "2                                                  0           \n",
       "3                                                  0           \n",
       "4                                                  0           \n",
       "\n",
       "   i_discharge_loc_unknown__specialty_cat_cardiology  \\\n",
       "0                                                  0   \n",
       "1                                                  0   \n",
       "2                                                  0   \n",
       "3                                                  0   \n",
       "4                                                  0   \n",
       "\n",
       "   i_discharge_loc_unknown__specialty_cat_internal_medicine  \\\n",
       "0                                                  0          \n",
       "1                                                  0          \n",
       "2                                                  0          \n",
       "3                                                  0          \n",
       "4                                                  0          \n",
       "\n",
       "   i_discharge_loc_unknown__specialty_cat_other  \\\n",
       "0                                             0   \n",
       "1                                             0   \n",
       "2                                             0   \n",
       "3                                             0   \n",
       "4                                             0   \n",
       "\n",
       "   i_discharge_loc_unknown__specialty_cat_pcp  \\\n",
       "0                                           1   \n",
       "1                                           0   \n",
       "2                                           0   \n",
       "3                                           0   \n",
       "4                                           0   \n",
       "\n",
       "   i_discharge_loc_unknown__specialty_cat_surgery  \n",
       "0                                               0  \n",
       "1                                               0  \n",
       "2                                               0  \n",
       "3                                               0  \n",
       "4                                               0  \n",
       "\n",
       "[5 rows x 117 columns]"
      ]
     },
     "execution_count": 72,
     "metadata": {},
     "output_type": "execute_result"
    }
   ],
   "source": [
    "X_11.head()"
   ]
  },
  {
   "cell_type": "markdown",
   "id": "33e762c7",
   "metadata": {},
   "source": [
    "Attempting to run some plots of the features was frivolous with 97, mostly on hot encoded categorical, features\n",
    "\n",
    "Running PCA to see what happens"
   ]
  },
  {
   "cell_type": "code",
   "execution_count": 73,
   "id": "f80c60da",
   "metadata": {},
   "outputs": [
    {
     "name": "stdout",
     "output_type": "stream",
     "text": [
      "num features after PCA: 79\n"
     ]
    }
   ],
   "source": [
    "from sklearn.preprocessing import StandardScaler\n",
    "from sklearn.decomposition import PCA\n",
    "from sklearn.model_selection import train_test_split\n",
    "\n",
    "X_train, X_test, y_train, y_test = train_test_split(X_11, y, test_size=0.2, stratify=y)\n",
    "\n",
    "scaler = StandardScaler()\n",
    "X_train_scaled = scaler.fit_transform(X_train)\n",
    "X_test_scaled = scaler.transform(X_test)\n",
    "\n",
    "\n",
    "pca = PCA(n_components=0.94)\n",
    "X_pca = pca.fit_transform(X_train_scaled)\n",
    "print(f'num features after PCA: {X_pca.shape[1]}')\n"
   ]
  },
  {
   "cell_type": "markdown",
   "id": "1cd107e0",
   "metadata": {},
   "source": [
    "curious what the graph of n_components / num features after PCA looks like"
   ]
  },
  {
   "cell_type": "code",
   "execution_count": 74,
   "id": "d17c1c11",
   "metadata": {},
   "outputs": [
    {
     "data": {
      "image/png": "[encoded data removed]",
      "text/plain": [
       "<Figure size 640x480 with 1 Axes>"
      ]
     },
     "metadata": {},
     "output_type": "display_data"
    }
   ],
   "source": [
    "plt.plot(range(1, len(pca.explained_variance_ratio_) + 1),\n",
    "         pca.explained_variance_ratio_.cumsum(), marker='o')\n",
    "plt.xlabel('Number of Components')\n",
    "plt.ylabel('Cumulative Explained Variance')\n",
    "plt.title('PCA Explained Variance')\n",
    "plt.grid(True)\n",
    "plt.show()\n"
   ]
  },
  {
   "cell_type": "code",
   "execution_count": 75,
   "id": "0712908d",
   "metadata": {},
   "outputs": [
    {
     "data": {
      "text/plain": [
       "['../src/shared_util/data/pca_pipeline.joblib']"
      ]
     },
     "execution_count": 75,
     "metadata": {},
     "output_type": "execute_result"
    }
   ],
   "source": [
    "# dump pca info to file for use in another notebook\n",
    "\n",
    "import joblib\n",
    "\n",
    "joblib.dump((X_pca, X_train_scaled, X_test_scaled, y_test, y_train), DATA_DIR / 'pca_pipeline.joblib')\n"
   ]
  },
  {
   "cell_type": "markdown",
   "id": "f6f3b883",
   "metadata": {},
   "source": [
    "After finishing preliminary data preperation, I provided the notebook to gemini for critque.\n",
    "\n",
    "That conversation can be referenced here: https://g.co/gemini/share/885bb5d34ee5\n",
    "\n",
    "The review lead to 2 changes:\n",
    "\n",
    "1. Apply the StandardScalar and train_test_split to the dataset before running PCA\n",
    "2. Addition of 'insulin' and 'metformin' flag columns in the dataset, when before I was dropping them. This seems logical to try and keep more information about the most important drugs.\n",
    "\n",
    "I also added a note about increasing the number of bins for discharge disposition, but for now have left it the same as Strack et al.\n"
   ]
  },
  {
   "cell_type": "code",
   "execution_count": null,
   "id": "fc973866",
   "metadata": {},
   "outputs": [],
   "source": []
  }
 ],
 "metadata": {
  "kernelspec": {
   "display_name": ".venv",
   "language": "python",
   "name": "python3"
  },
  "language_info": {
   "codemirror_mode": {
    "name": "ipython",
    "version": 3
   },
   "file_extension": ".py",
   "mimetype": "text/x-python",
   "name": "python",
   "nbconvert_exporter": "python",
   "pygments_lexer": "ipython3",
   "version": "3.13.7"
  }
 },
 "nbformat": 4,
 "nbformat_minor": 5
}
