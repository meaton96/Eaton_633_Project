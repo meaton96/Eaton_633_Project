{
 "cells": [
  {
   "cell_type": "markdown",
   "id": "d4dfa74f",
   "metadata": {},
   "source": [
    "# Linear Models"
   ]
  },
  {
   "cell_type": "markdown",
   "id": "93090a82",
   "metadata": {},
   "source": []
  }
 ],
 "metadata": {
  "language_info": {
   "name": "python"
  }
 },
 "nbformat": 4,
 "nbformat_minor": 5
}
