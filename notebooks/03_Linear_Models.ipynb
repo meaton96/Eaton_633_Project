{
 "cells": [
  {
   "cell_type": "markdown",
   "id": "d2999526-9f8f-4a73-ba4c-b7eb0282b371",
   "metadata": {},
   "source": [
    "# Linear Models"
   ]
  },
  {
   "cell_type": "markdown",
   "id": "f4c2cc99-16f7-4035-900d-eb3b1bd8303b",
   "metadata": {},
   "source": [
    "Check the performance of SVM and logistic regression on our engineered data sets before moving to more complex models."
   ]
  },
  {
   "cell_type": "code",
   "execution_count": 12,
   "id": "cd33ec5a-5aea-4cec-9dab-500477b44aea",
   "metadata": {},
   "outputs": [],
   "source": [
    "%reload_ext autoreload\n",
    "%autoreload 2\n",
    "import sys, os\n",
    "import pandas as pd\n",
    "import warnings\n",
    "import numpy as np\n",
    "from sklearn.model_selection import train_test_split\n",
    "from pathlib import Path\n",
    "\n",
    "warnings.filterwarnings('ignore')\n",
    "DATA_DIR = Path('../src/shared_util/data')\n",
    "METRICS_DIR = DATA_DIR / 'metrics'\n",
    "CSV_PATH = METRICS_DIR / 'metrics.csv'\n",
    "LOG = True\n",
    "\n",
    "\n",
    "\n",
    "from shared_util.metrics import metrics_db\n",
    "from shared_util.dataio import load_csv\n",
    "\n",
    "\n",
    "\n",
    "if LOG:\n",
    "    metrics_db.read_in(CSV_PATH)\n",
    "\n",
    "METRICS_DB_ID = 0 # update this to not overwrite previous metrics for these models\n",
    "METRIC_NOTES = \"first pass\" # global metric notes for this run\n"
   ]
  },
  {
   "cell_type": "code",
   "execution_count": 13,
   "id": "1841de87",
   "metadata": {},
   "outputs": [],
   "source": [
    "df = load_csv('linear_frame')"
   ]
  },
  {
   "cell_type": "code",
   "execution_count": 14,
   "id": "6988255f",
   "metadata": {},
   "outputs": [],
   "source": [
    "X_train, X_test, y_train, y_test = train_test_split(df.drop(columns=['target']), df['target'], test_size=0.2, stratify=df['target'])"
   ]
  },
  {
   "cell_type": "code",
   "execution_count": 15,
   "id": "0b529bad",
   "metadata": {},
   "outputs": [],
   "source": [
    "from sklearn.model_selection import StratifiedKFold, cross_val_score\n",
    "def make_cv():\n",
    "    return StratifiedKFold(\n",
    "    n_splits=10,\n",
    "    shuffle=True,\n",
    "    random_state=42\n",
    "    )\n",
    "\n"
   ]
  },
  {
   "cell_type": "markdown",
   "id": "2ff91073",
   "metadata": {},
   "source": [
    "## Baseline Logistic Regression"
   ]
  },
  {
   "cell_type": "code",
   "execution_count": 16,
   "id": "89a25916",
   "metadata": {},
   "outputs": [
    {
     "name": "stdout",
     "output_type": "stream",
     "text": [
      "Baseline SGD Classifier\n",
      "roc_auc score per fold:  [0.55657225 0.51644052 0.52606752 0.57999353 0.53200291 0.53814874\n",
      " 0.51572614 0.59288614 0.55202988 0.52148174]\n",
      "mean roc_auc score:  0.5431349375257891\n"
     ]
    }
   ],
   "source": [
    "from sklearn.linear_model import SGDClassifier\n",
    "from sklearn.metrics import make_scorer, roc_auc_score\n",
    "from imblearn.pipeline import Pipeline\n",
    "from imblearn.under_sampling import RandomUnderSampler\n",
    "\n",
    "\n",
    "cv = make_cv()\n",
    "\n",
    "def get_baseline(sampling_tech) -> float:\n",
    "    sgd = SGDClassifier(random_state=42)\n",
    "\n",
    "    pipe = Pipeline([\n",
    "        ('sampler', sampling_tech),\n",
    "        ('model', sgd)\n",
    "    ])\n",
    "\n",
    "    scores = cross_val_score(\n",
    "        pipe,\n",
    "        X_train,\n",
    "        y_train,\n",
    "        cv = cv,\n",
    "        scoring=make_scorer(roc_auc_score)\n",
    "    )\n",
    "\n",
    "    print('roc_auc score per fold: ', scores)\n",
    "    print('mean roc_auc score: ', scores.mean())\n",
    "    return scores.mean()\n",
    "\n",
    "\n",
    "print('Baseline SGD Classifier')\n",
    "\n",
    "roc_auc = get_baseline(RandomUnderSampler(random_state=42))\n",
    "\n",
    "\n",
    "if LOG:\n",
    "    metrics_db.log_metric(\n",
    "        metric_id=METRICS_DB_ID,\n",
    "        model='sgd_base_undsampl',\n",
    "        pipeline_notes='under_sample',\n",
    "        notes=METRIC_NOTES,\n",
    "        roc_auc=roc_auc\n",
    "    )\n",
    "\n"
   ]
  },
  {
   "cell_type": "code",
   "execution_count": 17,
   "id": "877313ed",
   "metadata": {},
   "outputs": [
    {
     "name": "stdout",
     "output_type": "stream",
     "text": [
      "Baseline ROC_AUC using SMOTE\n",
      "roc_auc score per fold:  [0.50299684 0.52230439 0.50397785 0.50499412 0.50345801 0.50636255\n",
      " 0.50990553 0.50285577 0.55401781 0.50812549]\n",
      "mean roc_auc score:  0.5118998353043852\n"
     ]
    }
   ],
   "source": [
    "# try SMOTE\n",
    "from imblearn.over_sampling import SMOTE\n",
    "\n",
    "print('Baseline ROC_AUC using SMOTE')\n",
    "\n",
    "roc_auc = get_baseline(SMOTE(random_state=42))\n",
    "\n",
    "if LOG:\n",
    "    metrics_db.log_metric(\n",
    "        metric_id=METRICS_DB_ID,\n",
    "        model='sgd_base_smote',\n",
    "        pipeline_notes='SMOTE',\n",
    "        notes=METRIC_NOTES,\n",
    "        roc_auc=roc_auc\n",
    "    )\n"
   ]
  },
  {
   "cell_type": "markdown",
   "id": "fc1cf266",
   "metadata": {},
   "source": [
    "Interestingly, baseline SGD using under sampling performed worse than baseline random forest using the same, but when using SMOTE, the linear model slightly outperformed the baseline random forest model."
   ]
  },
  {
   "cell_type": "code",
   "execution_count": 19,
   "id": "0da050ba",
   "metadata": {},
   "outputs": [],
   "source": [
    "def make_base_sgd(use_smote=False):\n",
    "    return Pipeline([\n",
    "        ('sampler',SMOTE(random_state=42) if use_smote else RandomUnderSampler(random_state=42)),\n",
    "        ('model', SGDClassifier(random_state=42))\n",
    "    ])"
   ]
  },
  {
   "cell_type": "code",
   "execution_count": 20,
   "id": "d23a1f62",
   "metadata": {},
   "outputs": [
    {
     "name": "stdout",
     "output_type": "stream",
     "text": [
      "Best ROC_AUC (cv): 0.6557625384715677\n",
      "best params: {'model__tol': 0.001, 'model__shuffle': True, 'model__penalty': 'l2', 'model__max_iter': 100, 'model__loss': 'hinge', 'model__learning_rate': 'invscaling', 'model__l1_ratio': 0.1, 'model__eta0': 0.1, 'model__class_weight': None, 'model__average': 5, 'model__alpha': 0.0001}\n"
     ]
    },
    {
     "data": {
      "text/html": [
       "<div>\n",
       "<style scoped>\n",
       "    .dataframe tbody tr th:only-of-type {\n",
       "        vertical-align: middle;\n",
       "    }\n",
       "\n",
       "    .dataframe tbody tr th {\n",
       "        vertical-align: top;\n",
       "    }\n",
       "\n",
       "    .dataframe thead th {\n",
       "        text-align: right;\n",
       "    }\n",
       "</style>\n",
       "<table border=\"1\" class=\"dataframe\">\n",
       "  <thead>\n",
       "    <tr style=\"text-align: right;\">\n",
       "      <th></th>\n",
       "      <th>rank_test_score</th>\n",
       "      <th>mean_test_score</th>\n",
       "      <th>std_test_score</th>\n",
       "      <th>params</th>\n",
       "    </tr>\n",
       "  </thead>\n",
       "  <tbody>\n",
       "    <tr>\n",
       "      <th>0</th>\n",
       "      <td>1</td>\n",
       "      <td>0.655763</td>\n",
       "      <td>0.007474</td>\n",
       "      <td>{'model__tol': 0.001, 'model__shuffle': True, ...</td>\n",
       "    </tr>\n",
       "    <tr>\n",
       "      <th>1</th>\n",
       "      <td>2</td>\n",
       "      <td>0.655136</td>\n",
       "      <td>0.007946</td>\n",
       "      <td>{'model__tol': 0.001, 'model__shuffle': True, ...</td>\n",
       "    </tr>\n",
       "    <tr>\n",
       "      <th>2</th>\n",
       "      <td>3</td>\n",
       "      <td>0.654583</td>\n",
       "      <td>0.008272</td>\n",
       "      <td>{'model__tol': 0.001, 'model__shuffle': True, ...</td>\n",
       "    </tr>\n",
       "    <tr>\n",
       "      <th>3</th>\n",
       "      <td>4</td>\n",
       "      <td>0.654243</td>\n",
       "      <td>0.008371</td>\n",
       "      <td>{'model__tol': 0.0001, 'model__shuffle': True,...</td>\n",
       "    </tr>\n",
       "    <tr>\n",
       "      <th>4</th>\n",
       "      <td>5</td>\n",
       "      <td>0.653617</td>\n",
       "      <td>0.008124</td>\n",
       "      <td>{'model__tol': 0.001, 'model__shuffle': True, ...</td>\n",
       "    </tr>\n",
       "    <tr>\n",
       "      <th>5</th>\n",
       "      <td>6</td>\n",
       "      <td>0.653479</td>\n",
       "      <td>0.007097</td>\n",
       "      <td>{'model__tol': 0.0001, 'model__shuffle': True,...</td>\n",
       "    </tr>\n",
       "    <tr>\n",
       "      <th>6</th>\n",
       "      <td>7</td>\n",
       "      <td>0.653108</td>\n",
       "      <td>0.009318</td>\n",
       "      <td>{'model__tol': 0.0001, 'model__shuffle': True,...</td>\n",
       "    </tr>\n",
       "    <tr>\n",
       "      <th>7</th>\n",
       "      <td>8</td>\n",
       "      <td>0.652343</td>\n",
       "      <td>0.008005</td>\n",
       "      <td>{'model__tol': 0.001, 'model__shuffle': True, ...</td>\n",
       "    </tr>\n",
       "    <tr>\n",
       "      <th>8</th>\n",
       "      <td>9</td>\n",
       "      <td>0.651980</td>\n",
       "      <td>0.008667</td>\n",
       "      <td>{'model__tol': 0.001, 'model__shuffle': True, ...</td>\n",
       "    </tr>\n",
       "    <tr>\n",
       "      <th>9</th>\n",
       "      <td>10</td>\n",
       "      <td>0.649293</td>\n",
       "      <td>0.011812</td>\n",
       "      <td>{'model__tol': 0.001, 'model__shuffle': True, ...</td>\n",
       "    </tr>\n",
       "  </tbody>\n",
       "</table>\n",
       "</div>"
      ],
      "text/plain": [
       "   rank_test_score  mean_test_score  std_test_score  \\\n",
       "0                1         0.655763        0.007474   \n",
       "1                2         0.655136        0.007946   \n",
       "2                3         0.654583        0.008272   \n",
       "3                4         0.654243        0.008371   \n",
       "4                5         0.653617        0.008124   \n",
       "5                6         0.653479        0.007097   \n",
       "6                7         0.653108        0.009318   \n",
       "7                8         0.652343        0.008005   \n",
       "8                9         0.651980        0.008667   \n",
       "9               10         0.649293        0.011812   \n",
       "\n",
       "                                              params  \n",
       "0  {'model__tol': 0.001, 'model__shuffle': True, ...  \n",
       "1  {'model__tol': 0.001, 'model__shuffle': True, ...  \n",
       "2  {'model__tol': 0.001, 'model__shuffle': True, ...  \n",
       "3  {'model__tol': 0.0001, 'model__shuffle': True,...  \n",
       "4  {'model__tol': 0.001, 'model__shuffle': True, ...  \n",
       "5  {'model__tol': 0.0001, 'model__shuffle': True,...  \n",
       "6  {'model__tol': 0.0001, 'model__shuffle': True,...  \n",
       "7  {'model__tol': 0.001, 'model__shuffle': True, ...  \n",
       "8  {'model__tol': 0.001, 'model__shuffle': True, ...  \n",
       "9  {'model__tol': 0.001, 'model__shuffle': True, ...  "
      ]
     },
     "execution_count": 20,
     "metadata": {},
     "output_type": "execute_result"
    }
   ],
   "source": [
    "# hyperparam search for SGD\n",
    "from sklearn.model_selection import RandomizedSearchCV\n",
    "\n",
    "\n",
    "\n",
    "sgd_param_grid = {\n",
    "    \"model__loss\": [\"log_loss\", \"modified_huber\", \"hinge\", \"squared_hinge\"],\n",
    "    \"model__penalty\": [\"l2\", \"l1\", \"elasticnet\"],\n",
    "    \"model__alpha\": [1e-6, 1e-5, 1e-4, 1e-3, 1e-2],\n",
    "    \"model__l1_ratio\": [0.1, 0.5, 0.9],\n",
    "    \"model__learning_rate\": [\"constant\", \"optimal\", \"invscaling\", \"adaptive\"],\n",
    "    \"model__eta0\": [1e-4, 3e-4, 1e-3, 3e-3, 1e-2, 3e-2, 1e-1],\n",
    "    \"model__max_iter\": [100, 500, 1000],\n",
    "    \"model__tol\": [1e-3, 1e-4],\n",
    "    \"model__class_weight\": [None, \"balanced\"],\n",
    "    \"model__average\": [False, True, 5, 10],\n",
    "    \"model__shuffle\": [True],\n",
    "}\n",
    "\n",
    "rs = RandomizedSearchCV(\n",
    "    estimator=make_base_sgd(),\n",
    "    param_distributions=sgd_param_grid,\n",
    "    n_iter=30,\n",
    "    scoring='roc_auc',\n",
    "    cv=make_cv(),\n",
    "    n_jobs=-1,\n",
    "    random_state=42,\n",
    "    refit=True\n",
    ")\n",
    "\n",
    "rs.fit(X_train, y_train)\n",
    "\n",
    "print(f'Best ROC_AUC (cv): {rs.best_score_}')\n",
    "print(f'best params: {rs.best_params_}')\n",
    "\n",
    "res_df = pd.DataFrame(\n",
    "    rs.cv_results_\n",
    ").sort_values('rank_test_score').reset_index(drop=True)\n",
    "res_df[['rank_test_score','mean_test_score','std_test_score','params']].head(10)"
   ]
  },
  {
   "cell_type": "code",
   "execution_count": 25,
   "id": "4c0fad4c",
   "metadata": {},
   "outputs": [
    {
     "data": {
      "text/plain": [
       "array([-0.8049055 ,  0.32642561, -0.89981366, ..., -0.78391024,\n",
       "        0.79366051, -0.77968065], shape=(20019,))"
      ]
     },
     "execution_count": 25,
     "metadata": {},
     "output_type": "execute_result"
    }
   ],
   "source": [
    "y_proba = rs.best_estimator_.decision_function(X_test) #type: ignore\n",
    "y_proba"
   ]
  },
  {
   "cell_type": "code",
   "execution_count": null,
   "id": "b0ec8449",
   "metadata": {},
   "outputs": [
    {
     "name": "stdout",
     "output_type": "stream",
     "text": [
      "Held Out Test Metrics (Random Forest)\n",
      "ROC_AUC:     0.653194381302023\n",
      "Accuracy:      0.6735601178880064\n",
      "F1 score:      0.27072871331324627\n",
      "Precision:     0.1813153961136024\n",
      "Recall:        0.5341259357111404\n",
      "\n",
      "Confusion matrix:\n",
      "\n",
      "TN: 12271, FP: 5477, FN: 1058, TP: 1213\n",
      "\n",
      "Classification report:\n",
      "               precision    recall  f1-score   support\n",
      "\n",
      "           0       0.92      0.69      0.79     17748\n",
      "           1       0.18      0.53      0.27      2271\n",
      "\n",
      "    accuracy                           0.67     20019\n",
      "   macro avg       0.55      0.61      0.53     20019\n",
      "weighted avg       0.84      0.67      0.73     20019\n",
      "\n"
     ]
    }
   ],
   "source": [
    "\n",
    "from shared_util.metrics.printing import print_metrics\n",
    "\n",
    "y_pred = rs.best_estimator_.predict(X_test) #type: ignore\n",
    "# roc auc\n",
    "print('Held Out Test Metrics (SGD)')\n",
    "#print('ROC AUC:', roc_auc_score(y_test, y_proba))\n",
    "print_metrics(y_test, y_pred, y_proba, \n",
    "              METRICS_DB_ID, \n",
    "              METRIC_NOTES,\n",
    "              model='rf_held_out_test',\n",
    "              hyperparam_notes=\"tuned_best_roc_auc\",\n",
    "              pipeline_notes='under_sample',\n",
    "              log=LOG\n",
    "              \n",
    ")\n",
    "\n"
   ]
  },
  {
   "cell_type": "code",
   "execution_count": null,
   "id": "f2e6802e",
   "metadata": {},
   "outputs": [],
   "source": []
  }
 ],
 "metadata": {
  "kernelspec": {
   "display_name": ".venv",
   "language": "python",
   "name": "python3"
  },
  "language_info": {
   "codemirror_mode": {
    "name": "ipython",
    "version": 3
   },
   "file_extension": ".py",
   "mimetype": "text/x-python",
   "name": "python",
   "nbconvert_exporter": "python",
   "pygments_lexer": "ipython3",
   "version": "3.13.7"
  }
 },
 "nbformat": 4,
 "nbformat_minor": 5
}
