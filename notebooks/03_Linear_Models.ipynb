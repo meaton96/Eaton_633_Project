{
 "cells": [
  {
   "cell_type": "markdown",
   "id": "d2999526-9f8f-4a73-ba4c-b7eb0282b371",
   "metadata": {},
   "source": [
    "# Linear Models"
   ]
  },
  {
   "cell_type": "markdown",
   "id": "f4c2cc99-16f7-4035-900d-eb3b1bd8303b",
   "metadata": {},
   "source": [
    "Check the performance of SVM and logistic regression on our engineered data sets before moving to more complex models."
   ]
  },
  {
   "cell_type": "code",
   "execution_count": null,
   "id": "cd33ec5a-5aea-4cec-9dab-500477b44aea",
   "metadata": {},
   "outputs": [],
   "source": [
    "%reload_ext autoreload\n",
    "%autoreload 2\n",
    "import sys, os\n",
    "import pandas as pd\n",
    "import warnings\n",
    "import numpy as np\n",
    "from sklearn.model_selection import train_test_split\n",
    "from pathlib import Path\n",
    "\n",
    "warnings.filterwarnings('ignore')\n",
    "sys.path.append(os.path.abspath(\"..\"))\n",
    "DATA_DIR = Path('../data')\n",
    "\n",
    "\n",
    "from src.utils import log_metric, set_csv_path\n",
    "\n",
    "set_csv_path(DATA_DIR / 'metrics.csv')\n",
    "\n"
   ]
  }
 ],
 "metadata": {
  "kernelspec": {
   "display_name": "Python 3 (ipykernel)",
   "language": "python",
   "name": "python3"
  },
  "language_info": {
   "codemirror_mode": {
    "name": "ipython",
    "version": 3
   },
   "file_extension": ".py",
   "mimetype": "text/x-python",
   "name": "python",
   "nbconvert_exporter": "python",
   "pygments_lexer": "ipython3",
   "version": "3.13.5"
  }
 },
 "nbformat": 4,
 "nbformat_minor": 5
}
