{
 "cells": [
  {
   "cell_type": "markdown",
   "id": "d2999526-9f8f-4a73-ba4c-b7eb0282b371",
   "metadata": {},
   "source": [
    "# Linear Models"
   ]
  },
  {
   "cell_type": "markdown",
   "id": "f4c2cc99-16f7-4035-900d-eb3b1bd8303b",
   "metadata": {},
   "source": [
    "Check the performance of SVM and logistic regression on our engineered data sets before moving to more complex models."
   ]
  },
  {
   "cell_type": "code",
   "execution_count": 3,
   "id": "cd33ec5a-5aea-4cec-9dab-500477b44aea",
   "metadata": {},
   "outputs": [],
   "source": [
    "%reload_ext autoreload\n",
    "%autoreload 2\n",
    "import sys, os\n",
    "import pandas as pd\n",
    "import warnings\n",
    "import numpy as np\n",
    "from sklearn.model_selection import train_test_split\n",
    "from pathlib import Path\n",
    "\n",
    "warnings.filterwarnings('ignore')\n",
    "DATA_DIR = '../data/'\n",
    "\n",
    "LOG = True\n",
    "\n",
    "\n",
    "\n",
    "from shared_util.metrics import metrics_db\n",
    "from shared_util.dataio import load_csv\n",
    "\n",
    "\n",
    "\n",
    "CSV_PATH = Path(DATA_DIR) / 'metrics' / 'metrics.csv'\n",
    "\n",
    "\n",
    "if LOG:\n",
    "    metrics_db.read_in(CSV_PATH)\n",
    "\n",
    "METRICS_DB_ID = 0 # update this to not overwrite previous metrics for these models\n",
    "METRIC_NOTES = \"first pass\" # global metric notes for this run\n"
   ]
  },
  {
   "cell_type": "code",
   "execution_count": 4,
   "id": "1841de87",
   "metadata": {},
   "outputs": [],
   "source": [
    "df = load_csv('linear_frame')"
   ]
  },
  {
   "cell_type": "code",
   "execution_count": 3,
   "id": "6988255f",
   "metadata": {},
   "outputs": [],
   "source": [
    "X_train, X_test, y_train, y_test = train_test_split(df.drop(columns=['target']), df['target'], test_size=0.2, stratify=df['target'])"
   ]
  },
  {
   "cell_type": "code",
   "execution_count": null,
   "id": "0b529bad",
   "metadata": {},
   "outputs": [],
   "source": []
  }
 ],
 "metadata": {
  "kernelspec": {
   "display_name": ".venv",
   "language": "python",
   "name": "python3"
  },
  "language_info": {
   "codemirror_mode": {
    "name": "ipython",
    "version": 3
   },
   "file_extension": ".py",
   "mimetype": "text/x-python",
   "name": "python",
   "nbconvert_exporter": "python",
   "pygments_lexer": "ipython3",
   "version": "3.13.7"
  }
 },
 "nbformat": 4,
 "nbformat_minor": 5
}
